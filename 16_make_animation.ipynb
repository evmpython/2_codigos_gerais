{
  "cells": [
    {
      "cell_type": "markdown",
      "metadata": {
        "id": "view-in-github",
        "colab_type": "text"
      },
      "source": [
        "<a href=\"https://colab.research.google.com/github/evmpython/2_codigos_gerais/blob/main/16_make_animation.ipynb\" target=\"_parent\"><img src=\"https://colab.research.google.com/assets/colab-badge.svg\" alt=\"Open In Colab\"/></a>"
      ]
    },
    {
      "cell_type": "markdown",
      "source": [
        "**FAZENDO ANIMAÇÃO DE IMAGENS DE SATÉLITE**\n",
        "\n",
        "---\n",
        "\n",
        "\n",
        "- url dos dados: http://ftp.cptec.inpe.br/goes/goes16/goes16_web/ams_ret_ch13_baixa/\n",
        "\n",
        "---\n",
        "\n",
        "\n",
        "- Código realizado por: Enrique V. Mattos -- 13/05/2024 - enrique@unifei.edu.br.\n",
        "- Código utilizado como referência de Diego Souza - https://github.com/diegormsouza\n",
        "\n",
        "---\n",
        "\n"
      ],
      "metadata": {
        "id": "SqsPqTvMPcEn"
      },
      "id": "SqsPqTvMPcEn"
    },
    {
      "cell_type": "markdown",
      "source": [
        "#Animação usando biblioteca `IMAGEIO`"
      ],
      "metadata": {
        "id": "MvqE7gQEUzjH"
      },
      "id": "MvqE7gQEUzjH"
    },
    {
      "cell_type": "code",
      "source": [
        "# importa bibliotecas\n",
        "import imageio\n",
        "import glob\n",
        "import os\n",
        "import warnings\n",
        "warnings.filterwarnings(\"ignore\")\n",
        "\n",
        "# imagens que irão compor a animação\n",
        "!wget http://ftp.cptec.inpe.br/goes/goes16/goes16_web/ams_ret_ch13_baixa/2024/05/S11635388_202405010000.jpg\n",
        "!wget http://ftp.cptec.inpe.br/goes/goes16/goes16_web/ams_ret_ch13_baixa/2024/05/S11635388_202405010100.jpg\n",
        "!wget http://ftp.cptec.inpe.br/goes/goes16/goes16_web/ams_ret_ch13_baixa/2024/05/S11635388_202405010200.jpg\n",
        "!wget http://ftp.cptec.inpe.br/goes/goes16/goes16_web/ams_ret_ch13_baixa/2024/05/S11635388_202405010300.jpg\n",
        "!wget http://ftp.cptec.inpe.br/goes/goes16/goes16_web/ams_ret_ch13_baixa/2024/05/S11635388_202405010400.jpg\n",
        "files = sorted(glob.glob('/content/*jpg'), key=os.path.getmtime)\n",
        "\n",
        "# cria animação\n",
        "images = []\n",
        "for file in files:\n",
        "    images.append(imageio.imread(file))\n",
        "imageio.mimsave(f'/content/animation_imageio.gif', images, duration=10, loop=0)\n",
        "\n",
        "# abre a animação\n",
        "from IPython.display import Image\n",
        "Image(open(f'/content/animation_imageio.gif','rb').read(), width=600)"
      ],
      "metadata": {
        "id": "Lz2sh6zC7WAN"
      },
      "id": "Lz2sh6zC7WAN",
      "execution_count": null,
      "outputs": []
    },
    {
      "cell_type": "markdown",
      "source": [
        "#Animação usando biblioteca `PIL`"
      ],
      "metadata": {
        "id": "v1PNDbYTNf2Q"
      },
      "id": "v1PNDbYTNf2Q"
    },
    {
      "cell_type": "code",
      "source": [
        "# importa bibliotecas\n",
        "from PIL import Image\n",
        "import os\n",
        "import warnings\n",
        "warnings.filterwarnings(\"ignore\")\n",
        "\n",
        "# imagens que irão compor a animação\n",
        "!wget http://ftp.cptec.inpe.br/goes/goes16/goes16_web/ams_ret_ch13_baixa/2024/05/S11635388_202405010000.jpg\n",
        "!wget http://ftp.cptec.inpe.br/goes/goes16/goes16_web/ams_ret_ch13_baixa/2024/05/S11635388_202405010100.jpg\n",
        "!wget http://ftp.cptec.inpe.br/goes/goes16/goes16_web/ams_ret_ch13_baixa/2024/05/S11635388_202405010200.jpg\n",
        "!wget http://ftp.cptec.inpe.br/goes/goes16/goes16_web/ams_ret_ch13_baixa/2024/05/S11635388_202405010300.jpg\n",
        "!wget http://ftp.cptec.inpe.br/goes/goes16/goes16_web/ams_ret_ch13_baixa/2024/05/S11635388_202405010400.jpg\n",
        "files = sorted(glob.glob('/content/*jpg'), key=os.path.getmtime)\n",
        "\n",
        "# cria animação\n",
        "img, *imgs = [Image.open(f) for f in files]\n",
        "img.save(fp=f'/content/animation_PIL.gif', format='GIF', append_images=imgs, save_all=True, duration=10, loop=0)\n",
        "\n",
        "# abre a animação\n",
        "from IPython.display import Image\n",
        "Image(open(f'/content/animation_PIL.gif','rb').read(), width=600)"
      ],
      "metadata": {
        "collapsed": true,
        "id": "o0whIrPdLu63"
      },
      "id": "o0whIrPdLu63",
      "execution_count": null,
      "outputs": []
    }
  ],
  "metadata": {
    "kernelspec": {
      "display_name": "Python 3",
      "language": "python",
      "name": "python3"
    },
    "language_info": {
      "codemirror_mode": {
        "name": "ipython",
        "version": 3
      },
      "file_extension": ".py",
      "mimetype": "text/x-python",
      "name": "python",
      "nbconvert_exporter": "python",
      "pygments_lexer": "ipython3",
      "version": "3.8.5"
    },
    "colab": {
      "provenance": [],
      "include_colab_link": true
    }
  },
  "nbformat": 4,
  "nbformat_minor": 5
}