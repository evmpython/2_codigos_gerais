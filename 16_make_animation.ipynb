{
  "cells": [
    {
      "cell_type": "markdown",
      "metadata": {
        "id": "view-in-github",
        "colab_type": "text"
      },
      "source": [
        "<a href=\"https://colab.research.google.com/github/evmpython/2_codigos_gerais/blob/main/16_make_animation.ipynb\" target=\"_parent\"><img src=\"https://colab.research.google.com/assets/colab-badge.svg\" alt=\"Open In Colab\"/></a>"
      ]
    },
    {
      "cell_type": "markdown",
      "source": [
        "**FAZENDO ANIMAÇÃO DE IMAGENS DE SATÉLITE**\n",
        "\n",
        "---\n",
        "\n",
        "\n",
        "- url dos dados: http://ftp.cptec.inpe.br/goes/goes16/goes16_web/ams_ret_ch13_baixa/\n",
        "\n",
        "---\n",
        "\n",
        "- Código de referência utilizado foi produzido por: Diego Souza -- https://github.com/diegormsouza\n",
        "- Código atualizado por: Enrique V. Mattos -- 16/05/2024 - enrique@unifei.edu.br.\n",
        "\n",
        "\n",
        "---\n",
        "\n"
      ],
      "metadata": {
        "id": "SqsPqTvMPcEn"
      },
      "id": "SqsPqTvMPcEn"
    },
    {
      "cell_type": "markdown",
      "source": [
        "#Animação usando biblioteca `IMAGEIO`"
      ],
      "metadata": {
        "id": "MvqE7gQEUzjH"
      },
      "id": "MvqE7gQEUzjH"
    },
    {
      "cell_type": "code",
      "source": [
        "# importa bibliotecas\n",
        "import imageio\n",
        "import glob\n",
        "import os\n",
        "import warnings\n",
        "warnings.filterwarnings(\"ignore\")\n",
        "\n",
        "# imagens que irão compor a animação\n",
        "!wget http://ftp.cptec.inpe.br/goes/goes16/goes16_web/ams_ret_ch13_baixa/2024/05/S11635388_202405010000.jpg\n",
        "!wget http://ftp.cptec.inpe.br/goes/goes16/goes16_web/ams_ret_ch13_baixa/2024/05/S11635388_202405010100.jpg\n",
        "!wget http://ftp.cptec.inpe.br/goes/goes16/goes16_web/ams_ret_ch13_baixa/2024/05/S11635388_202405010200.jpg\n",
        "!wget http://ftp.cptec.inpe.br/goes/goes16/goes16_web/ams_ret_ch13_baixa/2024/05/S11635388_202405010300.jpg\n",
        "!wget http://ftp.cptec.inpe.br/goes/goes16/goes16_web/ams_ret_ch13_baixa/2024/05/S11635388_202405010400.jpg\n",
        "files = sorted(glob.glob('/content/*jpg'), key=os.path.getmtime)\n",
        "\n",
        "# cria animação\n",
        "images = []\n",
        "for file in files:\n",
        "    images.append(imageio.imread(file))\n",
        "imageio.mimsave(f'/content/animation_imageio.gif', images, duration=10, loop=0)\n",
        "\n",
        "# abre a animação\n",
        "from IPython.display import Image\n",
        "Image(open(f'/content/animation_imageio.gif','rb').read(), width=600)"
      ],
      "metadata": {
        "id": "Lz2sh6zC7WAN",
        "colab": {
          "base_uri": "https://localhost:8080/",
          "height": 1000
        },
        "outputId": "3577e2c2-8a59-4dee-fd03-2c031449d70b"
      },
      "id": "Lz2sh6zC7WAN",
      "execution_count": null,
      "outputs": []
    },
    {
      "cell_type": "markdown",
      "source": [
        "#Animação usando biblioteca `PIL`"
      ],
      "metadata": {
        "id": "v1PNDbYTNf2Q"
      },
      "id": "v1PNDbYTNf2Q"
    },
    {
      "cell_type": "code",
      "source": [
        "# importa bibliotecas\n",
        "from PIL import Image\n",
        "import os\n",
        "import warnings\n",
        "warnings.filterwarnings(\"ignore\")\n",
        "\n",
        "# imagens que irão compor a animação\n",
        "!wget http://ftp.cptec.inpe.br/goes/goes16/goes16_web/ams_ret_ch13_baixa/2024/05/S11635388_202405010000.jpg\n",
        "!wget http://ftp.cptec.inpe.br/goes/goes16/goes16_web/ams_ret_ch13_baixa/2024/05/S11635388_202405010100.jpg\n",
        "!wget http://ftp.cptec.inpe.br/goes/goes16/goes16_web/ams_ret_ch13_baixa/2024/05/S11635388_202405010200.jpg\n",
        "!wget http://ftp.cptec.inpe.br/goes/goes16/goes16_web/ams_ret_ch13_baixa/2024/05/S11635388_202405010300.jpg\n",
        "!wget http://ftp.cptec.inpe.br/goes/goes16/goes16_web/ams_ret_ch13_baixa/2024/05/S11635388_202405010400.jpg\n",
        "files = sorted(glob.glob('/content/*jpg'), key=os.path.getmtime)\n",
        "\n",
        "# cria animação\n",
        "img, *imgs = [Image.open(f) for f in files]\n",
        "img.save(fp=f'/content/animation_PIL.gif', format='GIF', append_images=imgs, save_all=True, duration=10, loop=0)\n",
        "\n",
        "# abre a animação\n",
        "from IPython.display import Image\n",
        "Image(open(f'/content/animation_PIL.gif','rb').read(), width=600)"
      ],
      "metadata": {
        "collapsed": true,
        "id": "o0whIrPdLu63",
        "colab": {
          "base_uri": "https://localhost:8080/",
          "height": 1000
        },
        "outputId": "f21fc2d5-be59-49cd-b252-2a9ef7667cf0"
      },
      "id": "o0whIrPdLu63",
      "execution_count": null,
      "outputs": []
    },
    {
      "cell_type": "markdown",
      "source": [
        "#Animação usando `ImageMagic` do Linux"
      ],
      "metadata": {
        "id": "GMjnMKCR2IqW"
      },
      "id": "GMjnMKCR2IqW"
    },
    {
      "cell_type": "code",
      "source": [
        "# instala na máquina virtual do linux o ImageMagic\n",
        "!apt install -q imagemagick\n",
        "\n",
        "# imagens que irão compor a animação\n",
        "!wget http://ftp.cptec.inpe.br/goes/goes16/goes16_web/ams_ret_ch13_baixa/2024/05/S11635388_202405010000.jpg\n",
        "!wget http://ftp.cptec.inpe.br/goes/goes16/goes16_web/ams_ret_ch13_baixa/2024/05/S11635388_202405010100.jpg\n",
        "!wget http://ftp.cptec.inpe.br/goes/goes16/goes16_web/ams_ret_ch13_baixa/2024/05/S11635388_202405010200.jpg\n",
        "!wget http://ftp.cptec.inpe.br/goes/goes16/goes16_web/ams_ret_ch13_baixa/2024/05/S11635388_202405010300.jpg\n",
        "!wget http://ftp.cptec.inpe.br/goes/goes16/goes16_web/ams_ret_ch13_baixa/2024/05/S11635388_202405010400.jpg\n",
        "\n",
        "# cria animação\n",
        "!convert -delay 10 -page +0+0 '*.jpg' -loop 0 animation_ImageMagic.gif\n",
        "\n",
        "# abre a animação\n",
        "from IPython.display import Image\n",
        "Image(open(f'/content/animation_ImageMagic.gif','rb').read(), width=600)"
      ],
      "metadata": {
        "colab": {
          "base_uri": "https://localhost:8080/",
          "height": 1000
        },
        "id": "IWYiInhg00XV",
        "outputId": "fdc0b95d-cac9-4101-d068-01211902ef97"
      },
      "id": "IWYiInhg00XV",
      "execution_count": null,
      "outputs": []
    },
    {
      "cell_type": "code",
      "source": [
        "# mostra os arquivos no diretório\n",
        "!ls -lpl"
      ],
      "metadata": {
        "colab": {
          "base_uri": "https://localhost:8080/"
        },
        "id": "9n7GKbZe03G4",
        "outputId": "32d2da8b-7bbc-41c5-9510-5cf99b6a5b9f"
      },
      "id": "9n7GKbZe03G4",
      "execution_count": null,
      "outputs": [
        {
          "output_type": "stream",
          "name": "stdout",
          "text": [
            "total 67820\n",
            "-rw-r--r-- 1 root root 14584246 May 15 15:25 animation_imageio.gif\n",
            "-rw-r--r-- 1 root root 14982488 May 15 15:26 animation_ImageMagic.gif\n",
            "-rw-r--r-- 1 root root 14584246 May 15 15:25 animation_PIL.gif\n",
            "-rw-r--r-- 1 root root  1715967 May  1 00:17 S11635388_202405010000.jpg\n",
            "-rw-r--r-- 1 root root  1715967 May  1 00:17 S11635388_202405010000.jpg.1\n",
            "-rw-r--r-- 1 root root  1715967 May  1 00:17 S11635388_202405010000.jpg.2\n",
            "-rw-r--r-- 1 root root  1697420 May  1 01:17 S11635388_202405010100.jpg\n",
            "-rw-r--r-- 1 root root  1697420 May  1 01:17 S11635388_202405010100.jpg.1\n",
            "-rw-r--r-- 1 root root  1697420 May  1 01:17 S11635388_202405010100.jpg.2\n",
            "-rw-r--r-- 1 root root  1680961 May  1 02:17 S11635388_202405010200.jpg\n",
            "-rw-r--r-- 1 root root  1680961 May  1 02:17 S11635388_202405010200.jpg.1\n",
            "-rw-r--r-- 1 root root  1680961 May  1 02:17 S11635388_202405010200.jpg.2\n",
            "-rw-r--r-- 1 root root  1667724 May  1 03:17 S11635388_202405010300.jpg\n",
            "-rw-r--r-- 1 root root  1667724 May  1 03:17 S11635388_202405010300.jpg.1\n",
            "-rw-r--r-- 1 root root  1667724 May  1 03:17 S11635388_202405010300.jpg.2\n",
            "-rw-r--r-- 1 root root  1656013 May  1 04:17 S11635388_202405010400.jpg\n",
            "-rw-r--r-- 1 root root  1656013 May  1 04:17 S11635388_202405010400.jpg.1\n",
            "-rw-r--r-- 1 root root  1656013 May  1 04:17 S11635388_202405010400.jpg.2\n",
            "drwxr-xr-x 1 root root     4096 May 14 20:30 sample_data/\n"
          ]
        }
      ]
    },
    {
      "cell_type": "code",
      "source": [],
      "metadata": {
        "id": "c6xB5_Sr3R8y"
      },
      "id": "c6xB5_Sr3R8y",
      "execution_count": null,
      "outputs": []
    }
  ],
  "metadata": {
    "kernelspec": {
      "display_name": "Python 3",
      "language": "python",
      "name": "python3"
    },
    "language_info": {
      "codemirror_mode": {
        "name": "ipython",
        "version": 3
      },
      "file_extension": ".py",
      "mimetype": "text/x-python",
      "name": "python",
      "nbconvert_exporter": "python",
      "pygments_lexer": "ipython3",
      "version": "3.8.5"
    },
    "colab": {
      "provenance": [],
      "collapsed_sections": [
        "MvqE7gQEUzjH",
        "v1PNDbYTNf2Q",
        "GMjnMKCR2IqW"
      ],
      "include_colab_link": true
    }
  },
  "nbformat": 4,
  "nbformat_minor": 5
}