{
  "cells": [
    {
      "cell_type": "code",
      "execution_count": null,
      "id": "c13c794c-068e-4c96-9400-2dbf3cff399c",
      "metadata": {
        "id": "c13c794c-068e-4c96-9400-2dbf3cff399c"
      },
      "outputs": [],
      "source": [
        "# importa bibliotecas\n",
        "import glob\n",
        "import os\n",
        "import pandas as pd\n",
        "\n",
        "# define as datas\n",
        "datas = ['2022-05-03', '2023-01-01', '2023-01-02', '2023-01-03', '2023-01-05', '2024-01-03']\n",
        "\n",
        "# loop das datas\n",
        "df_total, df_hora_total = pd.DataFrame(), []\n",
        "for data in datas:\n",
        "\n",
        "    # lista os arquivos daquele dia\n",
        "    dir_input = f'/Users/enriq/Downloads/PROCESSAMENTO_PYTHON/PROJETO_CNPQ_PEDRO/dados_radar/{data}/'\n",
        "    files = sorted(glob.glob(f'{dir_input}*dBZ.vol')) # 20220503235730.dBZ.vol\n",
        "\n",
        "    # separa a data em ano, mês, dia, hora, minuto e segundo\n",
        "    data, ano, mes, dia, hor, min, seg = [], [], [], [], [], [], []\n",
        "    for file in files:\n",
        "        basename = os.path.basename(os.path.splitext(file)[0])[0:14] # '20220503235730'\n",
        "        data.append(basename)\n",
        "        ano.append(basename[0:4])\n",
        "        mes.append(basename[4:6])\n",
        "        dia.append(basename[6:8])\n",
        "        hor.append(basename[8:10])\n",
        "        min.append(basename[10:12])\n",
        "        seg.append(basename[12:14])\n",
        "\n",
        "    # coloca a data num dataframa\n",
        "    df = pd.DataFrame({'data': data, 'ano': ano, 'mes': mes, 'dia': dia, 'hor': hor, 'min': min, 'seg': seg })\n",
        "\n",
        "    # agrupa por hora\n",
        "    df_hora = df.groupby('hor').count()['ano']\n",
        "\n",
        "    # transforma para datetime\n",
        "    df['data'] = pd.to_datetime(df['data'])\n",
        "\n",
        "    # seta a coluna data com o index do dataframe\n",
        "    df.set_index('data', inplace=True)\n",
        "\n",
        "    # calcula a diferença de tempo entre as linhas: https://stackoverflow.com/questions/16777570/calculate-time-difference-between-pandas-dataframe-indices\n",
        "    df['deltaT_min'] = df.index.to_series().diff().dt.seconds.div(60, fill_value=0)\n",
        "    df['deltaT_min'] = round(df['deltaT_min'], 1)\n",
        "\n",
        "    # mostra a tabela\n",
        "    #display(df.head(2))\n",
        "\n",
        "    # concatena\n",
        "    df_total = pd.concat([df, df_total], ignore_index=True)\n",
        "\n",
        "    # junta as tabelas da quantidade de arquivos por hora\n",
        "    df_hora_total.append(df_hora)\n",
        "\n",
        "# salva arquivo que mostra o intervalo de tempo (em minutos) entre o atual e o próximo arquivo\n",
        "dfx_tempo = pd.DataFrame({'minutos_entre_arquivo_atual_e_proximo': df_total['deltaT_min'].value_counts().index, 'qte_arquivos': df_total['deltaT_min'].value_counts().values})\n",
        "dfx_tempo = dfx_tempo.sort_values(by='minutos_entre_arquivo_atual_e_proximo', ignore_index=True)\n",
        "dfx_tempo = dfx_tempo.drop(dfx_tempo.index[[0]])\n",
        "dfx_tempo.to_csv('output/diferenca_tempo_arquivos_radar.csv', index=False)\n",
        "\n",
        "# salva arquivo que mostra a quantidade de arquivos por hora de um determinado dia\n",
        "dfx_hora = pd.DataFrame(index=df_hora.index, columns=datas)\n",
        "for i, data in enumerate(datas): dfx_hora[data] = df_hora_total[i]\n",
        "dfx_hora.to_csv('output/arquivos_radar_por_hora.csv', sep=';', index=False)"
      ]
    },
    {
      "cell_type": "code",
      "execution_count": null,
      "id": "2615d8ca-d25e-4353-a333-ca3b0d79920c",
      "metadata": {
        "id": "2615d8ca-d25e-4353-a333-ca3b0d79920c",
        "outputId": "aec2b8bd-675b-4a10-c519-be132827e94d"
      },
      "outputs": [
        {
          "data": {
            "text/html": [
              "<div>\n",
              "<style scoped>\n",
              "    .dataframe tbody tr th:only-of-type {\n",
              "        vertical-align: middle;\n",
              "    }\n",
              "\n",
              "    .dataframe tbody tr th {\n",
              "        vertical-align: top;\n",
              "    }\n",
              "\n",
              "    .dataframe thead th {\n",
              "        text-align: right;\n",
              "    }\n",
              "</style>\n",
              "<table border=\"1\" class=\"dataframe\">\n",
              "  <thead>\n",
              "    <tr style=\"text-align: right;\">\n",
              "      <th></th>\n",
              "      <th>ano</th>\n",
              "      <th>mes</th>\n",
              "      <th>dia</th>\n",
              "      <th>hor</th>\n",
              "      <th>min</th>\n",
              "      <th>seg</th>\n",
              "      <th>deltaT_min</th>\n",
              "    </tr>\n",
              "  </thead>\n",
              "  <tbody>\n",
              "    <tr>\n",
              "      <th>0</th>\n",
              "      <td>2024</td>\n",
              "      <td>01</td>\n",
              "      <td>03</td>\n",
              "      <td>00</td>\n",
              "      <td>06</td>\n",
              "      <td>54</td>\n",
              "      <td>0.0</td>\n",
              "    </tr>\n",
              "    <tr>\n",
              "      <th>1</th>\n",
              "      <td>2024</td>\n",
              "      <td>01</td>\n",
              "      <td>03</td>\n",
              "      <td>00</td>\n",
              "      <td>11</td>\n",
              "      <td>37</td>\n",
              "      <td>4.7</td>\n",
              "    </tr>\n",
              "    <tr>\n",
              "      <th>2</th>\n",
              "      <td>2024</td>\n",
              "      <td>01</td>\n",
              "      <td>03</td>\n",
              "      <td>00</td>\n",
              "      <td>21</td>\n",
              "      <td>03</td>\n",
              "      <td>9.4</td>\n",
              "    </tr>\n",
              "    <tr>\n",
              "      <th>3</th>\n",
              "      <td>2024</td>\n",
              "      <td>01</td>\n",
              "      <td>03</td>\n",
              "      <td>00</td>\n",
              "      <td>25</td>\n",
              "      <td>46</td>\n",
              "      <td>4.7</td>\n",
              "    </tr>\n",
              "    <tr>\n",
              "      <th>4</th>\n",
              "      <td>2024</td>\n",
              "      <td>01</td>\n",
              "      <td>03</td>\n",
              "      <td>00</td>\n",
              "      <td>30</td>\n",
              "      <td>29</td>\n",
              "      <td>4.7</td>\n",
              "    </tr>\n",
              "    <tr>\n",
              "      <th>...</th>\n",
              "      <td>...</td>\n",
              "      <td>...</td>\n",
              "      <td>...</td>\n",
              "      <td>...</td>\n",
              "      <td>...</td>\n",
              "      <td>...</td>\n",
              "      <td>...</td>\n",
              "    </tr>\n",
              "    <tr>\n",
              "      <th>1666</th>\n",
              "      <td>2022</td>\n",
              "      <td>05</td>\n",
              "      <td>03</td>\n",
              "      <td>23</td>\n",
              "      <td>38</td>\n",
              "      <td>38</td>\n",
              "      <td>4.7</td>\n",
              "    </tr>\n",
              "    <tr>\n",
              "      <th>1667</th>\n",
              "      <td>2022</td>\n",
              "      <td>05</td>\n",
              "      <td>03</td>\n",
              "      <td>23</td>\n",
              "      <td>43</td>\n",
              "      <td>21</td>\n",
              "      <td>4.7</td>\n",
              "    </tr>\n",
              "    <tr>\n",
              "      <th>1668</th>\n",
              "      <td>2022</td>\n",
              "      <td>05</td>\n",
              "      <td>03</td>\n",
              "      <td>23</td>\n",
              "      <td>48</td>\n",
              "      <td>04</td>\n",
              "      <td>4.7</td>\n",
              "    </tr>\n",
              "    <tr>\n",
              "      <th>1669</th>\n",
              "      <td>2022</td>\n",
              "      <td>05</td>\n",
              "      <td>03</td>\n",
              "      <td>23</td>\n",
              "      <td>52</td>\n",
              "      <td>47</td>\n",
              "      <td>4.7</td>\n",
              "    </tr>\n",
              "    <tr>\n",
              "      <th>1670</th>\n",
              "      <td>2022</td>\n",
              "      <td>05</td>\n",
              "      <td>03</td>\n",
              "      <td>23</td>\n",
              "      <td>57</td>\n",
              "      <td>30</td>\n",
              "      <td>4.7</td>\n",
              "    </tr>\n",
              "  </tbody>\n",
              "</table>\n",
              "<p>1671 rows × 7 columns</p>\n",
              "</div>"
            ],
            "text/plain": [
              "       ano mes dia hor min seg  deltaT_min\n",
              "0     2024  01  03  00  06  54         0.0\n",
              "1     2024  01  03  00  11  37         4.7\n",
              "2     2024  01  03  00  21  03         9.4\n",
              "3     2024  01  03  00  25  46         4.7\n",
              "4     2024  01  03  00  30  29         4.7\n",
              "...    ...  ..  ..  ..  ..  ..         ...\n",
              "1666  2022  05  03  23  38  38         4.7\n",
              "1667  2022  05  03  23  43  21         4.7\n",
              "1668  2022  05  03  23  48  04         4.7\n",
              "1669  2022  05  03  23  52  47         4.7\n",
              "1670  2022  05  03  23  57  30         4.7\n",
              "\n",
              "[1671 rows x 7 columns]"
            ]
          },
          "execution_count": 379,
          "metadata": {},
          "output_type": "execute_result"
        }
      ],
      "source": [
        "df_total"
      ]
    },
    {
      "cell_type": "code",
      "execution_count": null,
      "id": "01457f59-96cd-48f4-9c52-a44390181748",
      "metadata": {
        "id": "01457f59-96cd-48f4-9c52-a44390181748",
        "outputId": "e7afceea-e294-4493-9d42-d6eaf9f3d7e5"
      },
      "outputs": [
        {
          "data": {
            "text/plain": [
              "hor\n",
              "00    12\n",
              "01    12\n",
              "02    12\n",
              "03    11\n",
              "04    12\n",
              "05    12\n",
              "06    11\n",
              "07    13\n",
              "08    12\n",
              "09    11\n",
              "10    13\n",
              "11    12\n",
              "12    13\n",
              "13    13\n",
              "14    10\n",
              "15    12\n",
              "16    12\n",
              "17    13\n",
              "18    11\n",
              "19    13\n",
              "20    12\n",
              "21    13\n",
              "22    11\n",
              "23    13\n",
              "Name: ano, dtype: int64"
            ]
          },
          "execution_count": 380,
          "metadata": {},
          "output_type": "execute_result"
        }
      ],
      "source": [
        "df_hora_total[0]"
      ]
    },
    {
      "cell_type": "code",
      "execution_count": null,
      "id": "9cdc3763-ff63-4064-8386-3d6f44feb9b3",
      "metadata": {
        "id": "9cdc3763-ff63-4064-8386-3d6f44feb9b3",
        "outputId": "33349509-5857-4ed6-fcff-a768bfb18ac8"
      },
      "outputs": [
        {
          "data": {
            "text/html": [
              "<div>\n",
              "<style scoped>\n",
              "    .dataframe tbody tr th:only-of-type {\n",
              "        vertical-align: middle;\n",
              "    }\n",
              "\n",
              "    .dataframe tbody tr th {\n",
              "        vertical-align: top;\n",
              "    }\n",
              "\n",
              "    .dataframe thead th {\n",
              "        text-align: right;\n",
              "    }\n",
              "</style>\n",
              "<table border=\"1\" class=\"dataframe\">\n",
              "  <thead>\n",
              "    <tr style=\"text-align: right;\">\n",
              "      <th></th>\n",
              "      <th>minutos_entre_arquivo_atual_e_proximo</th>\n",
              "      <th>qte_arquivos</th>\n",
              "    </tr>\n",
              "  </thead>\n",
              "  <tbody>\n",
              "    <tr>\n",
              "      <th>1</th>\n",
              "      <td>4.7</td>\n",
              "      <td>1523</td>\n",
              "    </tr>\n",
              "    <tr>\n",
              "      <th>2</th>\n",
              "      <td>4.8</td>\n",
              "      <td>3</td>\n",
              "    </tr>\n",
              "    <tr>\n",
              "      <th>3</th>\n",
              "      <td>9.4</td>\n",
              "      <td>120</td>\n",
              "    </tr>\n",
              "    <tr>\n",
              "      <th>4</th>\n",
              "      <td>9.5</td>\n",
              "      <td>3</td>\n",
              "    </tr>\n",
              "    <tr>\n",
              "      <th>5</th>\n",
              "      <td>14.2</td>\n",
              "      <td>13</td>\n",
              "    </tr>\n",
              "    <tr>\n",
              "      <th>6</th>\n",
              "      <td>18.9</td>\n",
              "      <td>3</td>\n",
              "    </tr>\n",
              "  </tbody>\n",
              "</table>\n",
              "</div>"
            ],
            "text/plain": [
              "   minutos_entre_arquivo_atual_e_proximo  qte_arquivos\n",
              "1                                    4.7          1523\n",
              "2                                    4.8             3\n",
              "3                                    9.4           120\n",
              "4                                    9.5             3\n",
              "5                                   14.2            13\n",
              "6                                   18.9             3"
            ]
          },
          "execution_count": 381,
          "metadata": {},
          "output_type": "execute_result"
        }
      ],
      "source": [
        "dfx_tempo"
      ]
    },
    {
      "cell_type": "code",
      "execution_count": null,
      "id": "4c4f4ea4-8e33-4486-aa66-7f2d15895dba",
      "metadata": {
        "id": "4c4f4ea4-8e33-4486-aa66-7f2d15895dba",
        "outputId": "9cc39b0c-598f-4b46-9efa-ab2a1393fe99"
      },
      "outputs": [
        {
          "data": {
            "text/html": [
              "<div>\n",
              "<style scoped>\n",
              "    .dataframe tbody tr th:only-of-type {\n",
              "        vertical-align: middle;\n",
              "    }\n",
              "\n",
              "    .dataframe tbody tr th {\n",
              "        vertical-align: top;\n",
              "    }\n",
              "\n",
              "    .dataframe thead th {\n",
              "        text-align: right;\n",
              "    }\n",
              "</style>\n",
              "<table border=\"1\" class=\"dataframe\">\n",
              "  <thead>\n",
              "    <tr style=\"text-align: right;\">\n",
              "      <th></th>\n",
              "      <th>2022-05-03</th>\n",
              "      <th>2023-01-01</th>\n",
              "      <th>2023-01-02</th>\n",
              "      <th>2023-01-03</th>\n",
              "      <th>2023-01-05</th>\n",
              "      <th>2024-01-03</th>\n",
              "    </tr>\n",
              "    <tr>\n",
              "      <th>hor</th>\n",
              "      <th></th>\n",
              "      <th></th>\n",
              "      <th></th>\n",
              "      <th></th>\n",
              "      <th></th>\n",
              "      <th></th>\n",
              "    </tr>\n",
              "  </thead>\n",
              "  <tbody>\n",
              "    <tr>\n",
              "      <th>00</th>\n",
              "      <td>12</td>\n",
              "      <td>9</td>\n",
              "      <td>12</td>\n",
              "      <td>10</td>\n",
              "      <td>11</td>\n",
              "      <td>8</td>\n",
              "    </tr>\n",
              "    <tr>\n",
              "      <th>01</th>\n",
              "      <td>12</td>\n",
              "      <td>12</td>\n",
              "      <td>11</td>\n",
              "      <td>13</td>\n",
              "      <td>13</td>\n",
              "      <td>9</td>\n",
              "    </tr>\n",
              "    <tr>\n",
              "      <th>02</th>\n",
              "      <td>12</td>\n",
              "      <td>12</td>\n",
              "      <td>10</td>\n",
              "      <td>13</td>\n",
              "      <td>13</td>\n",
              "      <td>9</td>\n",
              "    </tr>\n",
              "    <tr>\n",
              "      <th>03</th>\n",
              "      <td>11</td>\n",
              "      <td>13</td>\n",
              "      <td>13</td>\n",
              "      <td>10</td>\n",
              "      <td>11</td>\n",
              "      <td>9</td>\n",
              "    </tr>\n",
              "    <tr>\n",
              "      <th>04</th>\n",
              "      <td>12</td>\n",
              "      <td>12</td>\n",
              "      <td>12</td>\n",
              "      <td>10</td>\n",
              "      <td>12</td>\n",
              "      <td>12</td>\n",
              "    </tr>\n",
              "    <tr>\n",
              "      <th>05</th>\n",
              "      <td>12</td>\n",
              "      <td>12</td>\n",
              "      <td>12</td>\n",
              "      <td>13</td>\n",
              "      <td>13</td>\n",
              "      <td>10</td>\n",
              "    </tr>\n",
              "    <tr>\n",
              "      <th>06</th>\n",
              "      <td>11</td>\n",
              "      <td>11</td>\n",
              "      <td>12</td>\n",
              "      <td>12</td>\n",
              "      <td>13</td>\n",
              "      <td>11</td>\n",
              "    </tr>\n",
              "    <tr>\n",
              "      <th>07</th>\n",
              "      <td>13</td>\n",
              "      <td>11</td>\n",
              "      <td>11</td>\n",
              "      <td>10</td>\n",
              "      <td>12</td>\n",
              "      <td>11</td>\n",
              "    </tr>\n",
              "    <tr>\n",
              "      <th>08</th>\n",
              "      <td>12</td>\n",
              "      <td>13</td>\n",
              "      <td>13</td>\n",
              "      <td>13</td>\n",
              "      <td>13</td>\n",
              "      <td>10</td>\n",
              "    </tr>\n",
              "    <tr>\n",
              "      <th>09</th>\n",
              "      <td>11</td>\n",
              "      <td>12</td>\n",
              "      <td>11</td>\n",
              "      <td>11</td>\n",
              "      <td>12</td>\n",
              "      <td>11</td>\n",
              "    </tr>\n",
              "    <tr>\n",
              "      <th>10</th>\n",
              "      <td>13</td>\n",
              "      <td>13</td>\n",
              "      <td>10</td>\n",
              "      <td>11</td>\n",
              "      <td>11</td>\n",
              "      <td>10</td>\n",
              "    </tr>\n",
              "    <tr>\n",
              "      <th>11</th>\n",
              "      <td>12</td>\n",
              "      <td>12</td>\n",
              "      <td>11</td>\n",
              "      <td>12</td>\n",
              "      <td>13</td>\n",
              "      <td>10</td>\n",
              "    </tr>\n",
              "    <tr>\n",
              "      <th>12</th>\n",
              "      <td>13</td>\n",
              "      <td>13</td>\n",
              "      <td>12</td>\n",
              "      <td>12</td>\n",
              "      <td>13</td>\n",
              "      <td>8</td>\n",
              "    </tr>\n",
              "    <tr>\n",
              "      <th>13</th>\n",
              "      <td>13</td>\n",
              "      <td>12</td>\n",
              "      <td>11</td>\n",
              "      <td>12</td>\n",
              "      <td>13</td>\n",
              "      <td>11</td>\n",
              "    </tr>\n",
              "    <tr>\n",
              "      <th>14</th>\n",
              "      <td>10</td>\n",
              "      <td>11</td>\n",
              "      <td>11</td>\n",
              "      <td>10</td>\n",
              "      <td>11</td>\n",
              "      <td>11</td>\n",
              "    </tr>\n",
              "    <tr>\n",
              "      <th>15</th>\n",
              "      <td>12</td>\n",
              "      <td>13</td>\n",
              "      <td>12</td>\n",
              "      <td>13</td>\n",
              "      <td>12</td>\n",
              "      <td>11</td>\n",
              "    </tr>\n",
              "    <tr>\n",
              "      <th>16</th>\n",
              "      <td>12</td>\n",
              "      <td>13</td>\n",
              "      <td>12</td>\n",
              "      <td>11</td>\n",
              "      <td>12</td>\n",
              "      <td>10</td>\n",
              "    </tr>\n",
              "    <tr>\n",
              "      <th>17</th>\n",
              "      <td>13</td>\n",
              "      <td>11</td>\n",
              "      <td>12</td>\n",
              "      <td>10</td>\n",
              "      <td>11</td>\n",
              "      <td>11</td>\n",
              "    </tr>\n",
              "    <tr>\n",
              "      <th>18</th>\n",
              "      <td>11</td>\n",
              "      <td>12</td>\n",
              "      <td>13</td>\n",
              "      <td>13</td>\n",
              "      <td>13</td>\n",
              "      <td>12</td>\n",
              "    </tr>\n",
              "    <tr>\n",
              "      <th>19</th>\n",
              "      <td>13</td>\n",
              "      <td>13</td>\n",
              "      <td>11</td>\n",
              "      <td>12</td>\n",
              "      <td>13</td>\n",
              "      <td>9</td>\n",
              "    </tr>\n",
              "    <tr>\n",
              "      <th>20</th>\n",
              "      <td>12</td>\n",
              "      <td>12</td>\n",
              "      <td>12</td>\n",
              "      <td>11</td>\n",
              "      <td>12</td>\n",
              "      <td>10</td>\n",
              "    </tr>\n",
              "    <tr>\n",
              "      <th>21</th>\n",
              "      <td>13</td>\n",
              "      <td>12</td>\n",
              "      <td>11</td>\n",
              "      <td>12</td>\n",
              "      <td>11</td>\n",
              "      <td>10</td>\n",
              "    </tr>\n",
              "    <tr>\n",
              "      <th>22</th>\n",
              "      <td>11</td>\n",
              "      <td>13</td>\n",
              "      <td>12</td>\n",
              "      <td>11</td>\n",
              "      <td>12</td>\n",
              "      <td>11</td>\n",
              "    </tr>\n",
              "    <tr>\n",
              "      <th>23</th>\n",
              "      <td>13</td>\n",
              "      <td>11</td>\n",
              "      <td>13</td>\n",
              "      <td>13</td>\n",
              "      <td>12</td>\n",
              "      <td>10</td>\n",
              "    </tr>\n",
              "  </tbody>\n",
              "</table>\n",
              "</div>"
            ],
            "text/plain": [
              "     2022-05-03  2023-01-01  2023-01-02  2023-01-03  2023-01-05  2024-01-03\n",
              "hor                                                                        \n",
              "00           12           9          12          10          11           8\n",
              "01           12          12          11          13          13           9\n",
              "02           12          12          10          13          13           9\n",
              "03           11          13          13          10          11           9\n",
              "04           12          12          12          10          12          12\n",
              "05           12          12          12          13          13          10\n",
              "06           11          11          12          12          13          11\n",
              "07           13          11          11          10          12          11\n",
              "08           12          13          13          13          13          10\n",
              "09           11          12          11          11          12          11\n",
              "10           13          13          10          11          11          10\n",
              "11           12          12          11          12          13          10\n",
              "12           13          13          12          12          13           8\n",
              "13           13          12          11          12          13          11\n",
              "14           10          11          11          10          11          11\n",
              "15           12          13          12          13          12          11\n",
              "16           12          13          12          11          12          10\n",
              "17           13          11          12          10          11          11\n",
              "18           11          12          13          13          13          12\n",
              "19           13          13          11          12          13           9\n",
              "20           12          12          12          11          12          10\n",
              "21           13          12          11          12          11          10\n",
              "22           11          13          12          11          12          11\n",
              "23           13          11          13          13          12          10"
            ]
          },
          "execution_count": 382,
          "metadata": {},
          "output_type": "execute_result"
        }
      ],
      "source": [
        "dfx_hora"
      ]
    },
    {
      "cell_type": "code",
      "execution_count": null,
      "id": "dffe0203-5c79-41cc-b714-8955fe548e0f",
      "metadata": {
        "id": "dffe0203-5c79-41cc-b714-8955fe548e0f",
        "outputId": "aa48e1bf-0012-42b2-da6a-422de3a51b0a"
      },
      "outputs": [
        {
          "data": {
            "text/html": [
              "<div>\n",
              "<style scoped>\n",
              "    .dataframe tbody tr th:only-of-type {\n",
              "        vertical-align: middle;\n",
              "    }\n",
              "\n",
              "    .dataframe tbody tr th {\n",
              "        vertical-align: top;\n",
              "    }\n",
              "\n",
              "    .dataframe thead th {\n",
              "        text-align: right;\n",
              "    }\n",
              "</style>\n",
              "<table border=\"1\" class=\"dataframe\">\n",
              "  <thead>\n",
              "    <tr style=\"text-align: right;\">\n",
              "      <th></th>\n",
              "      <th>2022-05-03</th>\n",
              "      <th>2023-01-01</th>\n",
              "      <th>2023-01-02</th>\n",
              "      <th>2023-01-03</th>\n",
              "      <th>2023-01-05</th>\n",
              "      <th>2024-01-03</th>\n",
              "    </tr>\n",
              "  </thead>\n",
              "  <tbody>\n",
              "    <tr>\n",
              "      <th>count</th>\n",
              "      <td>24.000000</td>\n",
              "      <td>24.000000</td>\n",
              "      <td>24.000000</td>\n",
              "      <td>24.000000</td>\n",
              "      <td>24.000000</td>\n",
              "      <td>24.000000</td>\n",
              "    </tr>\n",
              "    <tr>\n",
              "      <th>mean</th>\n",
              "      <td>12.041667</td>\n",
              "      <td>12.000000</td>\n",
              "      <td>11.666667</td>\n",
              "      <td>11.583333</td>\n",
              "      <td>12.166667</td>\n",
              "      <td>10.166667</td>\n",
              "    </tr>\n",
              "    <tr>\n",
              "      <th>std</th>\n",
              "      <td>0.858673</td>\n",
              "      <td>0.978019</td>\n",
              "      <td>0.868115</td>\n",
              "      <td>1.176460</td>\n",
              "      <td>0.816497</td>\n",
              "      <td>1.090140</td>\n",
              "    </tr>\n",
              "    <tr>\n",
              "      <th>min</th>\n",
              "      <td>10.000000</td>\n",
              "      <td>9.000000</td>\n",
              "      <td>10.000000</td>\n",
              "      <td>10.000000</td>\n",
              "      <td>11.000000</td>\n",
              "      <td>8.000000</td>\n",
              "    </tr>\n",
              "    <tr>\n",
              "      <th>25%</th>\n",
              "      <td>11.750000</td>\n",
              "      <td>11.750000</td>\n",
              "      <td>11.000000</td>\n",
              "      <td>10.750000</td>\n",
              "      <td>11.750000</td>\n",
              "      <td>9.750000</td>\n",
              "    </tr>\n",
              "    <tr>\n",
              "      <th>50%</th>\n",
              "      <td>12.000000</td>\n",
              "      <td>12.000000</td>\n",
              "      <td>12.000000</td>\n",
              "      <td>12.000000</td>\n",
              "      <td>12.000000</td>\n",
              "      <td>10.000000</td>\n",
              "    </tr>\n",
              "    <tr>\n",
              "      <th>75%</th>\n",
              "      <td>13.000000</td>\n",
              "      <td>13.000000</td>\n",
              "      <td>12.000000</td>\n",
              "      <td>13.000000</td>\n",
              "      <td>13.000000</td>\n",
              "      <td>11.000000</td>\n",
              "    </tr>\n",
              "    <tr>\n",
              "      <th>max</th>\n",
              "      <td>13.000000</td>\n",
              "      <td>13.000000</td>\n",
              "      <td>13.000000</td>\n",
              "      <td>13.000000</td>\n",
              "      <td>13.000000</td>\n",
              "      <td>12.000000</td>\n",
              "    </tr>\n",
              "  </tbody>\n",
              "</table>\n",
              "</div>"
            ],
            "text/plain": [
              "       2022-05-03  2023-01-01  2023-01-02  2023-01-03  2023-01-05  2024-01-03\n",
              "count   24.000000   24.000000   24.000000   24.000000   24.000000   24.000000\n",
              "mean    12.041667   12.000000   11.666667   11.583333   12.166667   10.166667\n",
              "std      0.858673    0.978019    0.868115    1.176460    0.816497    1.090140\n",
              "min     10.000000    9.000000   10.000000   10.000000   11.000000    8.000000\n",
              "25%     11.750000   11.750000   11.000000   10.750000   11.750000    9.750000\n",
              "50%     12.000000   12.000000   12.000000   12.000000   12.000000   10.000000\n",
              "75%     13.000000   13.000000   12.000000   13.000000   13.000000   11.000000\n",
              "max     13.000000   13.000000   13.000000   13.000000   13.000000   12.000000"
            ]
          },
          "execution_count": 383,
          "metadata": {},
          "output_type": "execute_result"
        }
      ],
      "source": [
        "dfx_hora.describe()"
      ]
    },
    {
      "cell_type": "code",
      "execution_count": null,
      "id": "bb218c13-26e7-4ae6-aa09-2512ed015839",
      "metadata": {
        "id": "bb218c13-26e7-4ae6-aa09-2512ed015839",
        "outputId": "78109040-48fe-4857-927c-65e56772a4c2"
      },
      "outputs": [
        {
          "data": {
            "text/plain": [
              "12.0"
            ]
          },
          "execution_count": 384,
          "metadata": {},
          "output_type": "execute_result"
        }
      ],
      "source": [
        "p50 = np.percentile(dfx_hora.values.tolist(), 50, axis=0)\n",
        "p50 = np.percentile(p50, 50, axis=0)\n",
        "p50"
      ]
    },
    {
      "cell_type": "markdown",
      "id": "781c4ec3-5881-44b6-be61-efbff780f5ae",
      "metadata": {
        "id": "781c4ec3-5881-44b6-be61-efbff780f5ae"
      },
      "source": [
        "Gera gráfico do intervalo de tempo (em minutos) entre o atual e o próximo arquivo"
      ]
    },
    {
      "cell_type": "code",
      "execution_count": null,
      "id": "a4732800-5b76-473b-980b-de79cc68cf3d",
      "metadata": {
        "id": "a4732800-5b76-473b-980b-de79cc68cf3d",
        "outputId": "544313b8-94ba-4a7a-c867-6a64356ca410"
      },
      "outputs": [
        {
          "data": {
            "image/png": "[encoded data removed]",
            "text/plain": [
              "<Figure size 900x400 with 1 Axes>"
            ]
          },
          "metadata": {},
          "output_type": "display_data"
        }
      ],
      "source": [
        "# importa bibliotecas\n",
        "import matplotlib.pyplot as plt\n",
        "import numpy as np\n",
        "\n",
        "# tamanho da figura\n",
        "fig, ax = plt.subplots(figsize=(9,4))\n",
        "\n",
        "# layout do gráfico\n",
        "plt.style.use('bmh')\n",
        "\n",
        "# calcula o percential de 50% (mediana)\n",
        "p50 = np.percentile(dfx_hora.values.tolist(), 50, axis=0)\n",
        "p50 = np.percentile(p50, 50, axis=0)\n",
        "p50 = int(p50)\n",
        "\n",
        "# calcula o total de arquivos de radar\n",
        "tot_files = np.sum(dfx_tempo['qte_arquivos'].tolist())\n",
        "\n",
        "# plota figura\n",
        "ax.bar(np.arange(1,7,1),\n",
        "       dfx_tempo['qte_arquivos'].tolist(),\n",
        "       color='blue',\n",
        "       label='Arquivos por hora=12')\n",
        "\n",
        "# configuração dos eixos\n",
        "xticks = np.arange(1, dfx_tempo.shape[0]+1, 1)\n",
        "xticklabels = [str(i) for i in dfx_tempo['minutos_entre_arquivo_atual_e_proximo'].tolist()]\n",
        "\n",
        "ax.set(xlabel='Tempo (minutos)',\n",
        "       ylabel='Quantidade de Arquivos',\n",
        "       title=f'Intervalo de tempo entre o atual e o mais próximo arquivo do radar (Lontras-SC)\\n Quantidade de dias={p50} / Total de arquivos={tot_files}',\n",
        "       xlim=(0,7),\n",
        "       xticks=xticks,\n",
        "       xticklabels=xticklabels)\n",
        "\n",
        "# tamanho da letra do título da figura\n",
        "ax.title.set_size(10)\n",
        "\n",
        "# adiciona legenda\n",
        "ax.legend(loc='best', frameon=False)\n",
        "\n",
        "# salva figura\n",
        "plt.savefig('output/minutos_entre_arquivo_atual_e_proximo.png', bbox_inches='tight', dpi=300)\n",
        "\n",
        "# mostra na tela a figura\n",
        "plt.show()"
      ]
    },
    {
      "cell_type": "code",
      "execution_count": null,
      "id": "9acd6bda-e199-47b2-8544-4b5893ad513a",
      "metadata": {
        "id": "9acd6bda-e199-47b2-8544-4b5893ad513a",
        "outputId": "113c077f-d577-4cac-83c7-327b07ff6bab"
      },
      "outputs": [
        {
          "data": {
            "text/plain": [
              "array([1, 2, 3, 4, 5, 6])"
            ]
          },
          "execution_count": 406,
          "metadata": {},
          "output_type": "execute_result"
        }
      ],
      "source": [
        "np.arange(1,7,1)"
      ]
    },
    {
      "cell_type": "code",
      "execution_count": null,
      "id": "99dfcff0-6211-48c0-b9b4-c5ccc3033382",
      "metadata": {
        "id": "99dfcff0-6211-48c0-b9b4-c5ccc3033382",
        "outputId": "87cd64fe-fcdf-4281-ea49-2a14864b67a3"
      },
      "outputs": [
        {
          "data": {
            "text/plain": [
              "array([1, 2, 3, 4, 5, 6])"
            ]
          },
          "execution_count": 407,
          "metadata": {},
          "output_type": "execute_result"
        }
      ],
      "source": [
        "xticks"
      ]
    },
    {
      "cell_type": "code",
      "execution_count": null,
      "id": "f9e0f332-6600-4b44-af76-c8184baf7f02",
      "metadata": {
        "id": "f9e0f332-6600-4b44-af76-c8184baf7f02",
        "outputId": "7d52f808-fb2b-401b-8093-576c73af5e3d"
      },
      "outputs": [
        {
          "data": {
            "text/plain": [
              "['4.7', '4.8', '9.4', '9.5', '14.2', '18.9']"
            ]
          },
          "execution_count": 408,
          "metadata": {},
          "output_type": "execute_result"
        }
      ],
      "source": [
        "xticklabels"
      ]
    },
    {
      "cell_type": "code",
      "execution_count": null,
      "id": "a1cbdfc5-ba5f-49ef-89ed-cea4297cb99d",
      "metadata": {
        "id": "a1cbdfc5-ba5f-49ef-89ed-cea4297cb99d",
        "outputId": "a92601ae-394e-4499-fa25-c0e2e4c2af3c"
      },
      "outputs": [
        {
          "data": {
            "text/plain": [
              "hor\n",
              "00    12\n",
              "01    12\n",
              "02    12\n",
              "03    11\n",
              "04    12\n",
              "05    12\n",
              "06    11\n",
              "07    13\n",
              "08    12\n",
              "09    11\n",
              "10    13\n",
              "11    12\n",
              "12    13\n",
              "13    13\n",
              "14    10\n",
              "15    12\n",
              "16    12\n",
              "17    13\n",
              "18    11\n",
              "19    13\n",
              "20    12\n",
              "21    13\n",
              "22    11\n",
              "23    13\n",
              "Name: ano, dtype: int64"
            ]
          },
          "execution_count": 386,
          "metadata": {},
          "output_type": "execute_result"
        }
      ],
      "source": [
        "df_hora_total[0]"
      ]
    },
    {
      "cell_type": "code",
      "execution_count": null,
      "id": "c7e9efed-63cc-4eb7-9765-396b5f8996cc",
      "metadata": {
        "id": "c7e9efed-63cc-4eb7-9765-396b5f8996cc",
        "outputId": "ff5b2c9e-42e2-485a-de49-c05becb7444d"
      },
      "outputs": [
        {
          "data": {
            "text/plain": [
              "hor\n",
              "00     9\n",
              "01    12\n",
              "02    12\n",
              "03    13\n",
              "04    12\n",
              "05    12\n",
              "06    11\n",
              "07    11\n",
              "08    13\n",
              "09    12\n",
              "10    13\n",
              "11    12\n",
              "12    13\n",
              "13    12\n",
              "14    11\n",
              "15    13\n",
              "16    13\n",
              "17    11\n",
              "18    12\n",
              "19    13\n",
              "20    12\n",
              "21    12\n",
              "22    13\n",
              "23    11\n",
              "Name: ano, dtype: int64"
            ]
          },
          "execution_count": 387,
          "metadata": {},
          "output_type": "execute_result"
        }
      ],
      "source": [
        "df_hora_total[1]"
      ]
    },
    {
      "cell_type": "code",
      "execution_count": null,
      "id": "0c2fdf4e-aa5f-4696-a0f8-7b8518c05100",
      "metadata": {
        "id": "0c2fdf4e-aa5f-4696-a0f8-7b8518c05100",
        "outputId": "900bbd3d-e40e-4476-aa74-5e96d3792ecc"
      },
      "outputs": [
        {
          "data": {
            "text/plain": [
              "array([ 0. ,  4.7,  9.4, 18.9, 14.2,  4.8,  9.5])"
            ]
          },
          "execution_count": 388,
          "metadata": {},
          "output_type": "execute_result"
        }
      ],
      "source": [
        "df_total['deltaT_min'].unique()"
      ]
    },
    {
      "cell_type": "code",
      "execution_count": null,
      "id": "59319fe1-3c6c-48c7-98e2-559fd9f28091",
      "metadata": {
        "id": "59319fe1-3c6c-48c7-98e2-559fd9f28091",
        "outputId": "9eb976eb-7486-4ac5-9dc5-30b7626d3b12"
      },
      "outputs": [
        {
          "data": {
            "text/plain": [
              "4.7     1523\n",
              "9.4      120\n",
              "14.2      13\n",
              "0.0        6\n",
              "18.9       3\n",
              "4.8        3\n",
              "9.5        3\n",
              "Name: deltaT_min, dtype: int64"
            ]
          },
          "execution_count": 389,
          "metadata": {},
          "output_type": "execute_result"
        }
      ],
      "source": [
        "df_total['deltaT_min'].value_counts()"
      ]
    },
    {
      "cell_type": "code",
      "execution_count": null,
      "id": "00dcc82b-8133-485c-b3d1-636e92cc73ad",
      "metadata": {
        "id": "00dcc82b-8133-485c-b3d1-636e92cc73ad",
        "outputId": "0c4d8558-46a4-4d92-eb3a-85907bd175ab"
      },
      "outputs": [
        {
          "data": {
            "text/plain": [
              "23.5"
            ]
          },
          "execution_count": 390,
          "metadata": {},
          "output_type": "execute_result"
        }
      ],
      "source": [
        "5*4.7"
      ]
    },
    {
      "cell_type": "code",
      "execution_count": null,
      "id": "d2dacb30-89dd-471f-a897-e87badd13d04",
      "metadata": {
        "id": "d2dacb30-89dd-471f-a897-e87badd13d04",
        "outputId": "13cf7d93-b8e0-4c3a-dde9-223eef5f273f"
      },
      "outputs": [
        {
          "data": {
            "text/plain": [
              "4.7     187\n",
              "9.4      53\n",
              "14.2      2\n",
              "0.0       1\n",
              "18.9      1\n",
              "Name: deltaT_min, dtype: int64"
            ]
          },
          "execution_count": 391,
          "metadata": {},
          "output_type": "execute_result"
        }
      ],
      "source": [
        "df['deltaT_min'].value_counts()"
      ]
    },
    {
      "cell_type": "code",
      "execution_count": null,
      "id": "552a0d7d-360e-45c0-ac8d-c27fd5fae6b1",
      "metadata": {
        "id": "552a0d7d-360e-45c0-ac8d-c27fd5fae6b1",
        "outputId": "4bf20c8c-c5e4-48f2-c5c3-03c70471c5d4"
      },
      "outputs": [
        {
          "data": {
            "text/plain": [
              "9.4"
            ]
          },
          "execution_count": 392,
          "metadata": {},
          "output_type": "execute_result"
        }
      ],
      "source": [
        "4.7*2"
      ]
    },
    {
      "cell_type": "code",
      "execution_count": null,
      "id": "3432f8ca-b677-4098-8149-9ae0ae1f3634",
      "metadata": {
        "id": "3432f8ca-b677-4098-8149-9ae0ae1f3634",
        "outputId": "3ca719ac-3675-4f21-d3d3-ef79052d5050"
      },
      "outputs": [
        {
          "data": {
            "text/plain": [
              "['00',\n",
              " '01',\n",
              " '02',\n",
              " '03',\n",
              " '04',\n",
              " '05',\n",
              " '06',\n",
              " '07',\n",
              " '08',\n",
              " '09',\n",
              " '10',\n",
              " '11',\n",
              " '12',\n",
              " '13',\n",
              " '14',\n",
              " '15',\n",
              " '16',\n",
              " '17',\n",
              " '18',\n",
              " '19',\n",
              " '20',\n",
              " '21',\n",
              " '22',\n",
              " '23']"
            ]
          },
          "execution_count": 393,
          "metadata": {},
          "output_type": "execute_result"
        }
      ],
      "source": [
        "df_hora.index.tolist()"
      ]
    },
    {
      "cell_type": "code",
      "execution_count": null,
      "id": "cb07531b-34a4-4721-992a-12f8560189d3",
      "metadata": {
        "id": "cb07531b-34a4-4721-992a-12f8560189d3",
        "outputId": "14d01ca4-45f3-4f60-f3aa-26d6f3b51ed9"
      },
      "outputs": [
        {
          "data": {
            "text/plain": [
              "array([ 8,  9,  9,  9, 12, 10, 11, 11, 10, 11, 10, 10,  8, 11, 11, 11, 10,\n",
              "       11, 12,  9, 10, 10, 11, 10], dtype=int64)"
            ]
          },
          "execution_count": 394,
          "metadata": {},
          "output_type": "execute_result"
        }
      ],
      "source": [
        "df_hora.values"
      ]
    },
    {
      "cell_type": "code",
      "execution_count": null,
      "id": "6213c665-b239-4e53-b814-34ef132fa271",
      "metadata": {
        "id": "6213c665-b239-4e53-b814-34ef132fa271",
        "outputId": "46d66c5b-606f-40e1-c4cc-0ef3bcd39e82"
      },
      "outputs": [
        {
          "data": {
            "text/plain": [
              "DatetimeIndex(['2024-01-03 00:06:54', '2024-01-03 00:11:37',\n",
              "               '2024-01-03 00:21:03', '2024-01-03 00:25:46',\n",
              "               '2024-01-03 00:30:29', '2024-01-03 00:35:12',\n",
              "               '2024-01-03 00:54:05', '2024-01-03 00:58:48',\n",
              "               '2024-01-03 01:08:14', '2024-01-03 01:12:57',\n",
              "               ...\n",
              "               '2024-01-03 23:04:34', '2024-01-03 23:09:17',\n",
              "               '2024-01-03 23:14:00', '2024-01-03 23:18:44',\n",
              "               '2024-01-03 23:23:27', '2024-01-03 23:32:53',\n",
              "               '2024-01-03 23:37:36', '2024-01-03 23:42:19',\n",
              "               '2024-01-03 23:47:02', '2024-01-03 23:56:28'],\n",
              "              dtype='datetime64[ns]', name='data', length=244, freq=None)"
            ]
          },
          "execution_count": 395,
          "metadata": {},
          "output_type": "execute_result"
        }
      ],
      "source": [
        "df.index"
      ]
    },
    {
      "cell_type": "code",
      "execution_count": null,
      "id": "b9a752a5-822e-4aa7-84d0-4b8d3ea1da51",
      "metadata": {
        "id": "b9a752a5-822e-4aa7-84d0-4b8d3ea1da51",
        "outputId": "023670e1-9e70-4cd1-d811-3143500b1cc5"
      },
      "outputs": [
        {
          "name": "stdout",
          "output_type": "stream",
          "text": [
            "<class 'pandas.core.series.Series'>\n",
            "data\n",
            "2024-01-03 00:06:54   2024-01-03 00:06:54\n",
            "2024-01-03 00:11:37   2024-01-03 00:11:37\n",
            "2024-01-03 00:21:03   2024-01-03 00:21:03\n",
            "2024-01-03 00:25:46   2024-01-03 00:25:46\n",
            "2024-01-03 00:30:29   2024-01-03 00:30:29\n",
            "                              ...        \n",
            "2024-01-03 23:32:53   2024-01-03 23:32:53\n",
            "2024-01-03 23:37:36   2024-01-03 23:37:36\n",
            "2024-01-03 23:42:19   2024-01-03 23:42:19\n",
            "2024-01-03 23:47:02   2024-01-03 23:47:02\n",
            "2024-01-03 23:56:28   2024-01-03 23:56:28\n",
            "Name: data, Length: 244, dtype: datetime64[ns]\n"
          ]
        }
      ],
      "source": [
        "a = df.index.to_series()\n",
        "print(type(a))\n",
        "print(a)"
      ]
    },
    {
      "cell_type": "code",
      "execution_count": null,
      "id": "396d08f8-39ca-4e89-ab79-a8a52611593b",
      "metadata": {
        "id": "396d08f8-39ca-4e89-ab79-a8a52611593b",
        "outputId": "b36fb749-3cce-4fe4-e9a5-0d91be1db443"
      },
      "outputs": [
        {
          "data": {
            "text/plain": [
              "data\n",
              "2024-01-03 00:06:54               NaT\n",
              "2024-01-03 00:11:37   0 days 00:04:43\n",
              "2024-01-03 00:21:03   0 days 00:09:26\n",
              "2024-01-03 00:25:46   0 days 00:04:43\n",
              "2024-01-03 00:30:29   0 days 00:04:43\n",
              "                            ...      \n",
              "2024-01-03 23:32:53   0 days 00:09:26\n",
              "2024-01-03 23:37:36   0 days 00:04:43\n",
              "2024-01-03 23:42:19   0 days 00:04:43\n",
              "2024-01-03 23:47:02   0 days 00:04:43\n",
              "2024-01-03 23:56:28   0 days 00:09:26\n",
              "Name: data, Length: 244, dtype: timedelta64[ns]"
            ]
          },
          "execution_count": 397,
          "metadata": {},
          "output_type": "execute_result"
        }
      ],
      "source": [
        "# calcula a diferença em dias, horas, minutos e segundos\n",
        "# df.index.to_series().diff().dt.seconds.div(60, fill_value=0)\n",
        "df.index.to_series().diff()"
      ]
    },
    {
      "cell_type": "code",
      "execution_count": null,
      "id": "c1e07ab3-bab5-49f8-9713-0ac666e533c3",
      "metadata": {
        "id": "c1e07ab3-bab5-49f8-9713-0ac666e533c3",
        "outputId": "0a0ec508-a430-4fc3-a1ee-5dae65bbf4a7"
      },
      "outputs": [
        {
          "data": {
            "text/plain": [
              "Timedelta('0 days 00:04:43')"
            ]
          },
          "execution_count": 398,
          "metadata": {},
          "output_type": "execute_result"
        }
      ],
      "source": [
        "dif = df.index[1]-df.index[0]\n",
        "dif"
      ]
    },
    {
      "cell_type": "code",
      "execution_count": null,
      "id": "5096c213-10cb-4ae7-9de6-0f078778af0b",
      "metadata": {
        "id": "5096c213-10cb-4ae7-9de6-0f078778af0b",
        "outputId": "4e2b7be7-0f51-49a6-8a32-a90558e72474"
      },
      "outputs": [
        {
          "name": "stdout",
          "output_type": "stream",
          "text": [
            "Components(days=0, hours=0, minutes=4, seconds=43, milliseconds=0, microseconds=0, nanoseconds=0)\n"
          ]
        }
      ],
      "source": [
        "delta = pd.Timestamp( df.index[1]) - pd.Timestamp(df.index[0])\n",
        "print(delta.components)"
      ]
    },
    {
      "cell_type": "code",
      "execution_count": null,
      "id": "c142bd5e-e3bc-472d-ad91-a3842cfbe7b7",
      "metadata": {
        "id": "c142bd5e-e3bc-472d-ad91-a3842cfbe7b7",
        "outputId": "52874a82-a80c-41ef-fc44-cd8f5f73380d"
      },
      "outputs": [
        {
          "data": {
            "text/plain": [
              "<pandas.core.indexes.accessors.TimedeltaProperties object at 0x00000208CBBAC370>"
            ]
          },
          "execution_count": 400,
          "metadata": {},
          "output_type": "execute_result"
        }
      ],
      "source": [
        "# df.index.to_series().diff().dt.seconds.div(60, fill_value=0)\n",
        "df.index.to_series().diff().dt"
      ]
    },
    {
      "cell_type": "code",
      "execution_count": null,
      "id": "de71fb26-c839-4a2c-8458-bc8b7cd2a511",
      "metadata": {
        "id": "de71fb26-c839-4a2c-8458-bc8b7cd2a511",
        "outputId": "341770f1-a357-4d62-9317-97527f4832cc"
      },
      "outputs": [
        {
          "data": {
            "text/plain": [
              "data\n",
              "2024-01-03 00:06:54      NaN\n",
              "2024-01-03 00:11:37    283.0\n",
              "2024-01-03 00:21:03    566.0\n",
              "2024-01-03 00:25:46    283.0\n",
              "2024-01-03 00:30:29    283.0\n",
              "                       ...  \n",
              "2024-01-03 23:32:53    566.0\n",
              "2024-01-03 23:37:36    283.0\n",
              "2024-01-03 23:42:19    283.0\n",
              "2024-01-03 23:47:02    283.0\n",
              "2024-01-03 23:56:28    566.0\n",
              "Name: data, Length: 244, dtype: float64"
            ]
          },
          "execution_count": 401,
          "metadata": {},
          "output_type": "execute_result"
        }
      ],
      "source": [
        "# converte a diferença de tempo para segundos\n",
        "# df.index.to_series().diff().dt.seconds.div(60, fill_value=0)\n",
        "df.index.to_series().diff().dt.seconds"
      ]
    },
    {
      "cell_type": "code",
      "execution_count": null,
      "id": "f4d7d8c5-3574-49c8-80b0-27d8f6d3c7d7",
      "metadata": {
        "id": "f4d7d8c5-3574-49c8-80b0-27d8f6d3c7d7",
        "outputId": "baaf86de-fbc7-450d-c330-bb443cdc0c1e"
      },
      "outputs": [
        {
          "data": {
            "text/plain": [
              "data\n",
              "2024-01-03 00:06:54    0.000000\n",
              "2024-01-03 00:11:37    4.716667\n",
              "2024-01-03 00:21:03    9.433333\n",
              "2024-01-03 00:25:46    4.716667\n",
              "2024-01-03 00:30:29    4.716667\n",
              "                         ...   \n",
              "2024-01-03 23:32:53    9.433333\n",
              "2024-01-03 23:37:36    4.716667\n",
              "2024-01-03 23:42:19    4.716667\n",
              "2024-01-03 23:47:02    4.716667\n",
              "2024-01-03 23:56:28    9.433333\n",
              "Name: data, Length: 244, dtype: float64"
            ]
          },
          "execution_count": 402,
          "metadata": {},
          "output_type": "execute_result"
        }
      ],
      "source": [
        "# transforma de segundos para minutos. Para isto divide por 60\n",
        "# df.index.to_series().diff().dt.seconds.div(60, fill_value=0)\n",
        "df.index.to_series().diff().dt.seconds.div(60, fill_value=0)"
      ]
    },
    {
      "cell_type": "code",
      "execution_count": null,
      "id": "628cde8f-0c74-4e77-8195-c15a818bcb51",
      "metadata": {
        "id": "628cde8f-0c74-4e77-8195-c15a818bcb51",
        "outputId": "a4516b8f-8438-4c2a-f85d-a98ad1f6f617"
      },
      "outputs": [
        {
          "data": {
            "text/plain": [
              "array([ 0. ,  4.7,  9.4, 18.9, 14.2])"
            ]
          },
          "execution_count": 403,
          "metadata": {},
          "output_type": "execute_result"
        }
      ],
      "source": [
        "df['deltaT_min'].unique()"
      ]
    },
    {
      "cell_type": "code",
      "execution_count": null,
      "id": "7668e3de-3e68-40f3-bb71-1b3b630c3c86",
      "metadata": {
        "id": "7668e3de-3e68-40f3-bb71-1b3b630c3c86",
        "outputId": "c0178616-8bc5-4c32-8e23-74608268e953"
      },
      "outputs": [
        {
          "data": {
            "text/plain": [
              "4.7     187\n",
              "9.4      53\n",
              "14.2      2\n",
              "0.0       1\n",
              "18.9      1\n",
              "Name: deltaT_min, dtype: int64"
            ]
          },
          "execution_count": 404,
          "metadata": {},
          "output_type": "execute_result"
        }
      ],
      "source": [
        "df['deltaT_min'].value_counts()"
      ]
    }
  ],
  "metadata": {
    "kernelspec": {
      "display_name": "Python 3 (ipykernel)",
      "language": "python",
      "name": "python3"
    },
    "language_info": {
      "codemirror_mode": {
        "name": "ipython",
        "version": 3
      },
      "file_extension": ".py",
      "mimetype": "text/x-python",
      "name": "python",
      "nbconvert_exporter": "python",
      "pygments_lexer": "ipython3",
      "version": "3.10.11"
    },
    "colab": {
      "provenance": []
    }
  },
  "nbformat": 4,
  "nbformat_minor": 5
}