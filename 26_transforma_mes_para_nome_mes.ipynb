{
  "nbformat": 4,
  "nbformat_minor": 0,
  "metadata": {
    "colab": {
      "provenance": []
    },
    "kernelspec": {
      "name": "python3",
      "display_name": "Python 3"
    },
    "language_info": {
      "name": "python"
    }
  },
  "cells": [
    {
      "cell_type": "code",
      "source": [
        "# importa biblioteca\n",
        "from datetime import datetime\n",
        "\n",
        "# define o ano e mês da anomalia\n",
        "ano, mes = '2022', '05'\n",
        "\n",
        "# transforma a data para datetime\n",
        "test_date = datetime(int(ano), int(mes), 1)\n",
        "\n",
        "# cria um dicionário com o número do mês como chave e o nome do mês como valor\n",
        "mes_dic =  {1: \"Janeiro\",\n",
        "            2: \"Fevereiro\",\n",
        "            3: \"Março\",\n",
        "            4: \"Abril\",\n",
        "            5: \"Maio\",\n",
        "            6: \"Junho\",\n",
        "            7: \"Julho\",\n",
        "            8: \"Augosto\",\n",
        "            9: \"Setembro\",\n",
        "            10: \"Outubro\",\n",
        "            11: \"Novembro\",\n",
        "            12: \"Dezembro\"}\n",
        "\n",
        "# usa o dicionario para obter o nome do mes a partir do numero do mês\n",
        "nome_mes = mes_dic[test_date.month]\n",
        "\n",
        "# mostra na tela\n",
        "print(test_date.month, nome_mes)"
      ],
      "metadata": {
        "id": "pyVqU1Xlkw4Y",
        "colab": {
          "base_uri": "https://localhost:8080/"
        },
        "outputId": "c0eef7aa-9838-4c1e-82a8-a87bbbfc0ef2"
      },
      "execution_count": 5,
      "outputs": [
        {
          "output_type": "stream",
          "name": "stdout",
          "text": [
            "5 Maio\n"
          ]
        }
      ]
    },
    {
      "cell_type": "code",
      "source": [
        "print(mes_dic[5])"
      ],
      "metadata": {
        "colab": {
          "base_uri": "https://localhost:8080/"
        },
        "id": "Zw8y8RQnVtLj",
        "outputId": "70107b78-8297-4957-905e-4612eb29fc61"
      },
      "execution_count": 6,
      "outputs": [
        {
          "output_type": "stream",
          "name": "stdout",
          "text": [
            "Maio\n"
          ]
        }
      ]
    }
  ]
}