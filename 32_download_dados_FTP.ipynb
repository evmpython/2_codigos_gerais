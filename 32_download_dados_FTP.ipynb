{
  "cells": [
    {
      "cell_type": "markdown",
      "source": [
        "\n",
        "# **DOWNLOAD DOS ARQUIVOS DOS RADARES DO EVENTO DO RS**\n",
        "---\n",
        "\n",
        "\n",
        "1. url dos dados: http://ftp.cptec.inpe.br/chuva/transfer/dados_RS/\n",
        "\n",
        "\n",
        "---\n",
        "\n",
        "\n",
        "- Código realizado por: Enrique V. Mattos -- 06/05/2024 - enrique@unifei.edu.br\n",
        "\n",
        "\n",
        "---\n",
        "\n"
      ],
      "metadata": {
        "id": "YsjeaEq3hXOs"
      },
      "id": "YsjeaEq3hXOs"
    },
    {
      "cell_type": "markdown",
      "id": "d9772a06-6079-4016-b56f-39b4efe5ec68",
      "metadata": {
        "jp-MarkdownHeadingCollapsed": true,
        "id": "d9772a06-6079-4016-b56f-39b4efe5ec68"
      },
      "source": [
        "# **1° Passo:** Importando bibliotecas"
      ]
    },
    {
      "cell_type": "code",
      "execution_count": 1,
      "id": "a4088ba4-7884-4d4a-8759-c9082472031c",
      "metadata": {
        "id": "a4088ba4-7884-4d4a-8759-c9082472031c"
      },
      "outputs": [],
      "source": [
        "import xarray as xr\n",
        "from datetime import datetime\n",
        "import pandas as pd\n",
        "import os\n",
        "import time\n",
        "import warnings\n",
        "warnings.filterwarnings(\"ignore\")"
      ]
    },
    {
      "cell_type": "markdown",
      "source": [
        "# **2° Passo:** Monta drive"
      ],
      "metadata": {
        "id": "hK1XuG_EzMzy"
      },
      "id": "hK1XuG_EzMzy"
    },
    {
      "cell_type": "code",
      "source": [
        "from google.colab import drive\n",
        "drive.mount('/content/drive')\n",
        "\n",
        "dir = '/content/drive/MyDrive/2-PESQUISA/artigo_Chuva_RS_26abril_05maio2024/04_radar/'\n",
        "\n",
        "os.makedirs(f'{dir}', exist_ok=True)"
      ],
      "metadata": {
        "colab": {
          "base_uri": "https://localhost:8080/"
        },
        "id": "bfZOEpKjzM8y",
        "outputId": "23170745-542e-404f-8a33-2132d4a7396c"
      },
      "id": "bfZOEpKjzM8y",
      "execution_count": 2,
      "outputs": [
        {
          "output_type": "stream",
          "name": "stdout",
          "text": [
            "Mounted at /content/drive\n"
          ]
        }
      ]
    },
    {
      "cell_type": "markdown",
      "source": [
        "#Baixandos os dados\n",
        "- Demora 30 min para baixar os dados"
      ],
      "metadata": {
        "id": "VnbXhJhtsOvH"
      },
      "id": "VnbXhJhtsOvH"
    },
    {
      "cell_type": "code",
      "source": [
        "# importa bibliotecas\n",
        "from bs4 import BeautifulSoup\n",
        "from tqdm.notebook import tqdm_notebook\n",
        "import requests\n",
        "\n",
        "# link do site\n",
        "url = 'ftp.cptec.inpe.br/chuva/transfer/dados_RS/'\n",
        "\n",
        "# extensão dos arquivos\n",
        "ext = 'hdf5'\n",
        "#ext = 'HDF5'\n",
        "#ext = '.mvol'\n",
        "\n",
        "# caminho completo dos arquivos\n",
        "url = 'http://' + url\n",
        "\n",
        "# função que baixa os dados\n",
        "def listFD(url, ext=''):\n",
        "\n",
        "    page = requests.get(url).text\n",
        "\n",
        "    soup = BeautifulSoup(page, 'html.parser')\n",
        "\n",
        "    return [url + '/' + node.get('href') for node in soup.find_all('a') if node.get('href').endswith(ext)]\n",
        "\n",
        "# loop nos arquivo que estão no diretório específicado\n",
        "for file in tqdm_notebook(listFD(url, ext)):\n",
        "\n",
        "    # caminha de saída\n",
        "    path_out = f'{dir}input/dados_radar/'\n",
        "\n",
        "    # baixando os arquivos\n",
        "    !wget -q -c {file} -P {path_out}"
      ],
      "metadata": {
        "colab": {
          "base_uri": "https://localhost:8080/",
          "height": 78,
          "referenced_widgets": [
            "b2220861d3c54100baf9361e9b6c8997",
            "9dff5dbf6f584aed98c654bd7ccbc25e",
            "67deadfe4acc4cc482f89733963db271",
            "3def067ee44e43e78984f2038784d62a",
            "925e6ef6990f4922a626c3e9f84eab72",
            "f8f6a24a4bbd42438306153f8aebb720",
            "3b4fe7a1bc504529b0ca3046a5bb3d75",
            "8819f6425454438fbcc13081cd19f270",
            "7a7025d702d44503a1d00f783ddab718",
            "5fcb75120e9a4bf1b3595c4521987ed6",
            "73186758b3644f08ad929a0d138ca581"
          ]
        },
        "id": "HitPALr6XKZY",
        "outputId": "2954dc1b-e900-4db7-98e1-a27cbd6f1d04"
      },
      "id": "HitPALr6XKZY",
      "execution_count": null,
      "outputs": [
        {
          "output_type": "display_data",
          "data": {
            "text/plain": [
              "  0%|          | 0/509 [00:00<?, ?it/s]"
            ],
            "application/vnd.jupyter.widget-view+json": {
              "version_major": 2,
              "version_minor": 0,
              "model_id": "b2220861d3c54100baf9361e9b6c8997"
            }
          },
          "metadata": {}
        }
      ]
    },
    {
      "cell_type": "code",
      "source": [],
      "metadata": {
        "id": "DmWEcZ-MXKcO"
      },
      "id": "DmWEcZ-MXKcO",
      "execution_count": null,
      "outputs": []
    }
  ],
  "metadata": {
    "kernelspec": {
      "display_name": "Python 3 (ipykernel)",
      "language": "python",
      "name": "python3"
    },
    "language_info": {
      "codemirror_mode": {
        "name": "ipython",
        "version": 3
      },
      "file_extension": ".py",
      "mimetype": "text/x-python",
      "name": "python",
      "nbconvert_exporter": "python",
      "pygments_lexer": "ipython3",
      "version": "3.10.11"
    },
    "colab": {
      "provenance": [],
      "collapsed_sections": [
        "d9772a06-6079-4016-b56f-39b4efe5ec68",
        "hK1XuG_EzMzy"
      ]
    },
    "widgets": {
      "application/vnd.jupyter.widget-state+json": {
        "b2220861d3c54100baf9361e9b6c8997": {
          "model_module": "@jupyter-widgets/controls",
          "model_name": "HBoxModel",
          "model_module_version": "1.5.0",
          "state": {
            "_dom_classes": [],
            "_model_module": "@jupyter-widgets/controls",
            "_model_module_version": "1.5.0",
            "_model_name": "HBoxModel",
            "_view_count": null,
            "_view_module": "@jupyter-widgets/controls",
            "_view_module_version": "1.5.0",
            "_view_name": "HBoxView",
            "box_style": "",
            "children": [
              "IPY_MODEL_9dff5dbf6f584aed98c654bd7ccbc25e",
              "IPY_MODEL_67deadfe4acc4cc482f89733963db271",
              "IPY_MODEL_3def067ee44e43e78984f2038784d62a"
            ],
            "layout": "IPY_MODEL_925e6ef6990f4922a626c3e9f84eab72"
          }
        },
        "9dff5dbf6f584aed98c654bd7ccbc25e": {
          "model_module": "@jupyter-widgets/controls",
          "model_name": "HTMLModel",
          "model_module_version": "1.5.0",
          "state": {
            "_dom_classes": [],
            "_model_module": "@jupyter-widgets/controls",
            "_model_module_version": "1.5.0",
            "_model_name": "HTMLModel",
            "_view_count": null,
            "_view_module": "@jupyter-widgets/controls",
            "_view_module_version": "1.5.0",
            "_view_name": "HTMLView",
            "description": "",
            "description_tooltip": null,
            "layout": "IPY_MODEL_f8f6a24a4bbd42438306153f8aebb720",
            "placeholder": "​",
            "style": "IPY_MODEL_3b4fe7a1bc504529b0ca3046a5bb3d75",
            "value": " 39%"
          }
        },
        "67deadfe4acc4cc482f89733963db271": {
          "model_module": "@jupyter-widgets/controls",
          "model_name": "FloatProgressModel",
          "model_module_version": "1.5.0",
          "state": {
            "_dom_classes": [],
            "_model_module": "@jupyter-widgets/controls",
            "_model_module_version": "1.5.0",
            "_model_name": "FloatProgressModel",
            "_view_count": null,
            "_view_module": "@jupyter-widgets/controls",
            "_view_module_version": "1.5.0",
            "_view_name": "ProgressView",
            "bar_style": "",
            "description": "",
            "description_tooltip": null,
            "layout": "IPY_MODEL_8819f6425454438fbcc13081cd19f270",
            "max": 509,
            "min": 0,
            "orientation": "horizontal",
            "style": "IPY_MODEL_7a7025d702d44503a1d00f783ddab718",
            "value": 198
          }
        },
        "3def067ee44e43e78984f2038784d62a": {
          "model_module": "@jupyter-widgets/controls",
          "model_name": "HTMLModel",
          "model_module_version": "1.5.0",
          "state": {
            "_dom_classes": [],
            "_model_module": "@jupyter-widgets/controls",
            "_model_module_version": "1.5.0",
            "_model_name": "HTMLModel",
            "_view_count": null,
            "_view_module": "@jupyter-widgets/controls",
            "_view_module_version": "1.5.0",
            "_view_name": "HTMLView",
            "description": "",
            "description_tooltip": null,
            "layout": "IPY_MODEL_5fcb75120e9a4bf1b3595c4521987ed6",
            "placeholder": "​",
            "style": "IPY_MODEL_73186758b3644f08ad929a0d138ca581",
            "value": " 198/509 [04:38&lt;08:52,  1.71s/it]"
          }
        },
        "925e6ef6990f4922a626c3e9f84eab72": {
          "model_module": "@jupyter-widgets/base",
          "model_name": "LayoutModel",
          "model_module_version": "1.2.0",
          "state": {
            "_model_module": "@jupyter-widgets/base",
            "_model_module_version": "1.2.0",
            "_model_name": "LayoutModel",
            "_view_count": null,
            "_view_module": "@jupyter-widgets/base",
            "_view_module_version": "1.2.0",
            "_view_name": "LayoutView",
            "align_content": null,
            "align_items": null,
            "align_self": null,
            "border": null,
            "bottom": null,
            "display": null,
            "flex": null,
            "flex_flow": null,
            "grid_area": null,
            "grid_auto_columns": null,
            "grid_auto_flow": null,
            "grid_auto_rows": null,
            "grid_column": null,
            "grid_gap": null,
            "grid_row": null,
            "grid_template_areas": null,
            "grid_template_columns": null,
            "grid_template_rows": null,
            "height": null,
            "justify_content": null,
            "justify_items": null,
            "left": null,
            "margin": null,
            "max_height": null,
            "max_width": null,
            "min_height": null,
            "min_width": null,
            "object_fit": null,
            "object_position": null,
            "order": null,
            "overflow": null,
            "overflow_x": null,
            "overflow_y": null,
            "padding": null,
            "right": null,
            "top": null,
            "visibility": null,
            "width": null
          }
        },
        "f8f6a24a4bbd42438306153f8aebb720": {
          "model_module": "@jupyter-widgets/base",
          "model_name": "LayoutModel",
          "model_module_version": "1.2.0",
          "state": {
            "_model_module": "@jupyter-widgets/base",
            "_model_module_version": "1.2.0",
            "_model_name": "LayoutModel",
            "_view_count": null,
            "_view_module": "@jupyter-widgets/base",
            "_view_module_version": "1.2.0",
            "_view_name": "LayoutView",
            "align_content": null,
            "align_items": null,
            "align_self": null,
            "border": null,
            "bottom": null,
            "display": null,
            "flex": null,
            "flex_flow": null,
            "grid_area": null,
            "grid_auto_columns": null,
            "grid_auto_flow": null,
            "grid_auto_rows": null,
            "grid_column": null,
            "grid_gap": null,
            "grid_row": null,
            "grid_template_areas": null,
            "grid_template_columns": null,
            "grid_template_rows": null,
            "height": null,
            "justify_content": null,
            "justify_items": null,
            "left": null,
            "margin": null,
            "max_height": null,
            "max_width": null,
            "min_height": null,
            "min_width": null,
            "object_fit": null,
            "object_position": null,
            "order": null,
            "overflow": null,
            "overflow_x": null,
            "overflow_y": null,
            "padding": null,
            "right": null,
            "top": null,
            "visibility": null,
            "width": null
          }
        },
        "3b4fe7a1bc504529b0ca3046a5bb3d75": {
          "model_module": "@jupyter-widgets/controls",
          "model_name": "DescriptionStyleModel",
          "model_module_version": "1.5.0",
          "state": {
            "_model_module": "@jupyter-widgets/controls",
            "_model_module_version": "1.5.0",
            "_model_name": "DescriptionStyleModel",
            "_view_count": null,
            "_view_module": "@jupyter-widgets/base",
            "_view_module_version": "1.2.0",
            "_view_name": "StyleView",
            "description_width": ""
          }
        },
        "8819f6425454438fbcc13081cd19f270": {
          "model_module": "@jupyter-widgets/base",
          "model_name": "LayoutModel",
          "model_module_version": "1.2.0",
          "state": {
            "_model_module": "@jupyter-widgets/base",
            "_model_module_version": "1.2.0",
            "_model_name": "LayoutModel",
            "_view_count": null,
            "_view_module": "@jupyter-widgets/base",
            "_view_module_version": "1.2.0",
            "_view_name": "LayoutView",
            "align_content": null,
            "align_items": null,
            "align_self": null,
            "border": null,
            "bottom": null,
            "display": null,
            "flex": null,
            "flex_flow": null,
            "grid_area": null,
            "grid_auto_columns": null,
            "grid_auto_flow": null,
            "grid_auto_rows": null,
            "grid_column": null,
            "grid_gap": null,
            "grid_row": null,
            "grid_template_areas": null,
            "grid_template_columns": null,
            "grid_template_rows": null,
            "height": null,
            "justify_content": null,
            "justify_items": null,
            "left": null,
            "margin": null,
            "max_height": null,
            "max_width": null,
            "min_height": null,
            "min_width": null,
            "object_fit": null,
            "object_position": null,
            "order": null,
            "overflow": null,
            "overflow_x": null,
            "overflow_y": null,
            "padding": null,
            "right": null,
            "top": null,
            "visibility": null,
            "width": null
          }
        },
        "7a7025d702d44503a1d00f783ddab718": {
          "model_module": "@jupyter-widgets/controls",
          "model_name": "ProgressStyleModel",
          "model_module_version": "1.5.0",
          "state": {
            "_model_module": "@jupyter-widgets/controls",
            "_model_module_version": "1.5.0",
            "_model_name": "ProgressStyleModel",
            "_view_count": null,
            "_view_module": "@jupyter-widgets/base",
            "_view_module_version": "1.2.0",
            "_view_name": "StyleView",
            "bar_color": null,
            "description_width": ""
          }
        },
        "5fcb75120e9a4bf1b3595c4521987ed6": {
          "model_module": "@jupyter-widgets/base",
          "model_name": "LayoutModel",
          "model_module_version": "1.2.0",
          "state": {
            "_model_module": "@jupyter-widgets/base",
            "_model_module_version": "1.2.0",
            "_model_name": "LayoutModel",
            "_view_count": null,
            "_view_module": "@jupyter-widgets/base",
            "_view_module_version": "1.2.0",
            "_view_name": "LayoutView",
            "align_content": null,
            "align_items": null,
            "align_self": null,
            "border": null,
            "bottom": null,
            "display": null,
            "flex": null,
            "flex_flow": null,
            "grid_area": null,
            "grid_auto_columns": null,
            "grid_auto_flow": null,
            "grid_auto_rows": null,
            "grid_column": null,
            "grid_gap": null,
            "grid_row": null,
            "grid_template_areas": null,
            "grid_template_columns": null,
            "grid_template_rows": null,
            "height": null,
            "justify_content": null,
            "justify_items": null,
            "left": null,
            "margin": null,
            "max_height": null,
            "max_width": null,
            "min_height": null,
            "min_width": null,
            "object_fit": null,
            "object_position": null,
            "order": null,
            "overflow": null,
            "overflow_x": null,
            "overflow_y": null,
            "padding": null,
            "right": null,
            "top": null,
            "visibility": null,
            "width": null
          }
        },
        "73186758b3644f08ad929a0d138ca581": {
          "model_module": "@jupyter-widgets/controls",
          "model_name": "DescriptionStyleModel",
          "model_module_version": "1.5.0",
          "state": {
            "_model_module": "@jupyter-widgets/controls",
            "_model_module_version": "1.5.0",
            "_model_name": "DescriptionStyleModel",
            "_view_count": null,
            "_view_module": "@jupyter-widgets/base",
            "_view_module_version": "1.2.0",
            "_view_name": "StyleView",
            "description_width": ""
          }
        }
      }
    }
  },
  "nbformat": 4,
  "nbformat_minor": 5
}