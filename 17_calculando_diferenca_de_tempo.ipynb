{
 "cells": [
  {
   "cell_type": "code",
   "execution_count": 169,
   "metadata": {},
   "outputs": [
    {
     "name": "stdout",
     "output_type": "stream",
     "text": [
      "2024 9 15 21 57 2\n"
     ]
    }
   ],
   "source": [
    "import datetime\n",
    "    \n",
    "YEAR        = datetime.date.today().year     # the current year\n",
    "MONTH       = datetime.date.today().month    # the current month\n",
    "DATE        = datetime.date.today().day      # the current day\n",
    "\n",
    "HOUR        = datetime.datetime.now().hour   # the current hour\n",
    "MINUTE      = datetime.datetime.now().minute # the current minute\n",
    "SECONDS     = datetime.datetime.now().second # the current second\n",
    "    \n",
    "print(YEAR, MONTH, DATE, HOUR, MINUTE, SECONDS)"
   ]
  },
  {
   "cell_type": "code",
   "execution_count": 170,
   "metadata": {
    "id": "Lyjh1HLH5qNx"
   },
   "outputs": [
    {
     "name": "stdout",
     "output_type": "stream",
     "text": [
      "data_1= <class 'datetime.datetime'> 2023-01-01 17:00:40 2023 1 1 17 0 40\n",
      "data_2= <class 'datetime.datetime'> 2024-01-01 18:05:45 2024 1 1 18 5 45\n",
      "['365', 'days,', '1:05:05'] 365 1 05 05\n",
      "dif= <class 'datetime.timedelta'> 365 days, 1:05:05 365 1 05 05\n"
     ]
    }
   ],
   "source": [
    "# importa biblioteca para trabalhar com datas\n",
    "from datetime import datetime\n",
    "\n",
    "# define a data inicial e final\n",
    "ano1, mes1, dia1, hor1, min1, seg1, microseg1 = 2023, 1, 1, 17, 0, 40, 0\n",
    "ano2, mes2, dia2, hor2, min2, seg2, microseg2 = 2024, 1, 1, 18, 5, 45, 0\n",
    "\n",
    "# calcula o datatime para a data inicial e final\n",
    "data_1 = datetime(ano1, mes1, dia1, hor1, min1, seg1, microseg1)\n",
    "data_2 = datetime(ano2, mes2, dia2, hor2, min2, seg2, microseg2)\n",
    "\n",
    "# mostra data_1\n",
    "print('data_1=', type(data_1), data_1, data_1.year, data_1.month, data_1.day, data_1.hour, data_1.minute, data_1.second)\n",
    "\n",
    "# mostra data_2\n",
    "print('data_2=', type(data_2), data_2, data_2.year, data_2.month, data_2.day, data_2.hour, data_2.minute, data_2.second)\n",
    "\n",
    "# calcula a diferenças de tempo entra a data inicial e final\n",
    "dif = data_2 - data_1\n",
    "\n",
    "# separa em dias, horas, minutos e segundos\n",
    "a = str(dif).split(' ')\n",
    "dias = a[0] \n",
    "horas, minutos, segundos, = a[-1].split(':')\n",
    "print(a, dias, horas, minutos, segundos)\n",
    "\n",
    "print('dif=', type(dif), \n",
    "      dif,\n",
    "      dias, \n",
    "      horas, \n",
    "      minutos,\n",
    "      segundos)"
   ]
  },
  {
   "cell_type": "code",
   "execution_count": 171,
   "metadata": {},
   "outputs": [
    {
     "name": "stdout",
     "output_type": "stream",
     "text": [
      "365 days, 1:05:05\n"
     ]
    }
   ],
   "source": [
    "print(dif)"
   ]
  },
  {
   "cell_type": "code",
   "execution_count": 172,
   "metadata": {},
   "outputs": [
    {
     "data": {
      "text/plain": [
       "datetime.timedelta(days=365, seconds=3905)"
      ]
     },
     "execution_count": 172,
     "metadata": {},
     "output_type": "execute_result"
    }
   ],
   "source": [
    "dif"
   ]
  },
  {
   "cell_type": "code",
   "execution_count": 174,
   "metadata": {},
   "outputs": [
    {
     "name": "stdout",
     "output_type": "stream",
     "text": [
      "Components(days=365, hours=1, minutes=5, seconds=5, milliseconds=0, microseconds=0, nanoseconds=0)\n",
      "365 1 5 5 0 0\n"
     ]
    }
   ],
   "source": [
    "import pandas as pd\n",
    "\n",
    "data_1 = f'{str(ano1)}-{str(mes1).zfill(2)}-{str(dia1).zfill(2)} {str(hor1).zfill(2)}{str(min1).zfill(2)}{str(seg1).zfill(2)}'\n",
    "data_2 = f'{str(ano2)}-{str(mes2).zfill(2)}-{str(dia2).zfill(2)} {str(hor2).zfill(2)}{str(min2).zfill(2)}{str(seg2).zfill(2)}'\n",
    "\n",
    "delta = pd.Timestamp(data_2) - pd.Timestamp(data_1)\n",
    "\n",
    "print(delta.components)\n",
    "print(delta.components.days, delta.components.hours, delta.components.minutes, delta.components.seconds, delta.components.milliseconds, delta.components.microseconds)"
   ]
  },
  {
   "cell_type": "code",
   "execution_count": 175,
   "metadata": {},
   "outputs": [
    {
     "name": "stdout",
     "output_type": "stream",
     "text": [
      "Total seconds: 444600.0\n",
      "Days: 5, Hours: 3, Minutes: 30, Seconds: 0\n"
     ]
    }
   ],
   "source": [
    "from datetime import timedelta\n",
    "\n",
    "# Create a timedelta object\n",
    "duration = timedelta(days=5, hours=3, minutes=30)\n",
    "\n",
    "# Get the total seconds\n",
    "total_seconds = duration.total_seconds()\n",
    "print(\"Total seconds:\", total_seconds)\n",
    "\n",
    "# Get individual components\n",
    "days = duration.days\n",
    "hours = duration.seconds // 3600  # Convert seconds to hours\n",
    "minutes = (duration.seconds // 60) % 60  # Convert remaining seconds to minutes\n",
    "seconds = duration.seconds % 60\n",
    "\n",
    "print(f\"Days: {days}, Hours: {hours}, Minutes: {minutes}, Seconds: {seconds}\")"
   ]
  }
 ],
 "metadata": {
  "colab": {
   "provenance": []
  },
  "kernelspec": {
   "display_name": "Python 3 (ipykernel)",
   "language": "python",
   "name": "python3"
  },
  "language_info": {
   "codemirror_mode": {
    "name": "ipython",
    "version": 3
   },
   "file_extension": ".py",
   "mimetype": "text/x-python",
   "name": "python",
   "nbconvert_exporter": "python",
   "pygments_lexer": "ipython3",
   "version": "3.10.11"
  }
 },
 "nbformat": 4,
 "nbformat_minor": 4
}
