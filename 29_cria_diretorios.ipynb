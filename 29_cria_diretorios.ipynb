{
  "cells": [
    {
      "cell_type": "markdown",
      "source": [
        "**Preparação**"
      ],
      "metadata": {
        "id": "MvqE7gQEUzjH"
      },
      "id": "MvqE7gQEUzjH"
    },
    {
      "cell_type": "code",
      "source": [
        "# importa biblioteca\n",
        "import os\n",
        "import pandas as pd\n",
        "from datetime import datetime\n",
        "\n",
        "# monta drive\n",
        "from google.colab import drive\n",
        "drive.mount('/content/drive')\n",
        "\n",
        "# caminho do drive\n",
        "dir = '/content/drive/MyDrive/PYHTON/00_GITHUB/00c_CODIGOS_EXTRAS_PYTHON/output/'"
      ],
      "metadata": {
        "id": "Lz2sh6zC7WAN",
        "colab": {
          "base_uri": "https://localhost:8080/"
        },
        "outputId": "99dba1b0-9a98-4160-8437-a6b9222b6198"
      },
      "id": "Lz2sh6zC7WAN",
      "execution_count": 1,
      "outputs": [
        {
          "output_type": "stream",
          "name": "stdout",
          "text": [
            "Mounted at /content/drive\n"
          ]
        }
      ]
    },
    {
      "cell_type": "markdown",
      "source": [
        "**Criando as pastas**"
      ],
      "metadata": {
        "id": "GDWUAFDmu7Vn"
      },
      "id": "GDWUAFDmu7Vn"
    },
    {
      "cell_type": "code",
      "source": [
        "# ano, mes e dia INICIAL do período\n",
        "anoi = 2023\n",
        "mesi = 1\n",
        "diai = 1\n",
        "\n",
        "# ano, mes e dia FINAL do período\n",
        "anof = 2023\n",
        "mesf = 3\n",
        "diaf = 31\n",
        "\n",
        "# Data desejada\n",
        "date_in = datetime(anoi, mesi, diai)\n",
        "date_ini = date_in.strftime('%Y%m%d')\n",
        "\n",
        "date_en = datetime(anof, mesf, diaf)\n",
        "date_end = date_en.strftime('%Y%m%d')\n",
        "\n",
        "# Download dos dados\n",
        "for file in pd.date_range(date_ini, date_end, freq='d'):\n",
        "\n",
        "    # extrai ano e mes\n",
        "    ano = file.strftime('%Y')\n",
        "    mes = file.strftime('%m')\n",
        "    dia = file.strftime('%d')\n",
        "\n",
        "    # cria a pasta de saídade com o nome \"output\"\n",
        "    os.makedirs(f'{dir}{ano}/{ano}-{mes}-{dia}', exist_ok=True)\n",
        "\n",
        "    # criou a pasta\n",
        "    print(f'{dir}{ano}/{ano}-{mes}-{dia}')"
      ],
      "metadata": {
        "id": "oGaFE0G3uuxU",
        "colab": {
          "base_uri": "https://localhost:8080/"
        },
        "outputId": "a5caf177-4a35-49f8-9736-a4d37ef49a7f"
      },
      "id": "oGaFE0G3uuxU",
      "execution_count": 5,
      "outputs": [
        {
          "output_type": "stream",
          "name": "stdout",
          "text": [
            "/content/drive/MyDrive/PYHTON/00_GITHUB/00c_CODIGOS_EXTRAS_PYTHON/output/2023/2023-01-01\n",
            "/content/drive/MyDrive/PYHTON/00_GITHUB/00c_CODIGOS_EXTRAS_PYTHON/output/2023/2023-01-02\n",
            "/content/drive/MyDrive/PYHTON/00_GITHUB/00c_CODIGOS_EXTRAS_PYTHON/output/2023/2023-01-03\n",
            "/content/drive/MyDrive/PYHTON/00_GITHUB/00c_CODIGOS_EXTRAS_PYTHON/output/2023/2023-01-04\n",
            "/content/drive/MyDrive/PYHTON/00_GITHUB/00c_CODIGOS_EXTRAS_PYTHON/output/2023/2023-01-05\n",
            "/content/drive/MyDrive/PYHTON/00_GITHUB/00c_CODIGOS_EXTRAS_PYTHON/output/2023/2023-01-06\n",
            "/content/drive/MyDrive/PYHTON/00_GITHUB/00c_CODIGOS_EXTRAS_PYTHON/output/2023/2023-01-07\n",
            "/content/drive/MyDrive/PYHTON/00_GITHUB/00c_CODIGOS_EXTRAS_PYTHON/output/2023/2023-01-08\n",
            "/content/drive/MyDrive/PYHTON/00_GITHUB/00c_CODIGOS_EXTRAS_PYTHON/output/2023/2023-01-09\n",
            "/content/drive/MyDrive/PYHTON/00_GITHUB/00c_CODIGOS_EXTRAS_PYTHON/output/2023/2023-01-10\n",
            "/content/drive/MyDrive/PYHTON/00_GITHUB/00c_CODIGOS_EXTRAS_PYTHON/output/2023/2023-01-11\n",
            "/content/drive/MyDrive/PYHTON/00_GITHUB/00c_CODIGOS_EXTRAS_PYTHON/output/2023/2023-01-12\n",
            "/content/drive/MyDrive/PYHTON/00_GITHUB/00c_CODIGOS_EXTRAS_PYTHON/output/2023/2023-01-13\n",
            "/content/drive/MyDrive/PYHTON/00_GITHUB/00c_CODIGOS_EXTRAS_PYTHON/output/2023/2023-01-14\n",
            "/content/drive/MyDrive/PYHTON/00_GITHUB/00c_CODIGOS_EXTRAS_PYTHON/output/2023/2023-01-15\n",
            "/content/drive/MyDrive/PYHTON/00_GITHUB/00c_CODIGOS_EXTRAS_PYTHON/output/2023/2023-01-16\n",
            "/content/drive/MyDrive/PYHTON/00_GITHUB/00c_CODIGOS_EXTRAS_PYTHON/output/2023/2023-01-17\n",
            "/content/drive/MyDrive/PYHTON/00_GITHUB/00c_CODIGOS_EXTRAS_PYTHON/output/2023/2023-01-18\n",
            "/content/drive/MyDrive/PYHTON/00_GITHUB/00c_CODIGOS_EXTRAS_PYTHON/output/2023/2023-01-19\n",
            "/content/drive/MyDrive/PYHTON/00_GITHUB/00c_CODIGOS_EXTRAS_PYTHON/output/2023/2023-01-20\n",
            "/content/drive/MyDrive/PYHTON/00_GITHUB/00c_CODIGOS_EXTRAS_PYTHON/output/2023/2023-01-21\n",
            "/content/drive/MyDrive/PYHTON/00_GITHUB/00c_CODIGOS_EXTRAS_PYTHON/output/2023/2023-01-22\n",
            "/content/drive/MyDrive/PYHTON/00_GITHUB/00c_CODIGOS_EXTRAS_PYTHON/output/2023/2023-01-23\n",
            "/content/drive/MyDrive/PYHTON/00_GITHUB/00c_CODIGOS_EXTRAS_PYTHON/output/2023/2023-01-24\n",
            "/content/drive/MyDrive/PYHTON/00_GITHUB/00c_CODIGOS_EXTRAS_PYTHON/output/2023/2023-01-25\n",
            "/content/drive/MyDrive/PYHTON/00_GITHUB/00c_CODIGOS_EXTRAS_PYTHON/output/2023/2023-01-26\n",
            "/content/drive/MyDrive/PYHTON/00_GITHUB/00c_CODIGOS_EXTRAS_PYTHON/output/2023/2023-01-27\n",
            "/content/drive/MyDrive/PYHTON/00_GITHUB/00c_CODIGOS_EXTRAS_PYTHON/output/2023/2023-01-28\n",
            "/content/drive/MyDrive/PYHTON/00_GITHUB/00c_CODIGOS_EXTRAS_PYTHON/output/2023/2023-01-29\n",
            "/content/drive/MyDrive/PYHTON/00_GITHUB/00c_CODIGOS_EXTRAS_PYTHON/output/2023/2023-01-30\n",
            "/content/drive/MyDrive/PYHTON/00_GITHUB/00c_CODIGOS_EXTRAS_PYTHON/output/2023/2023-01-31\n",
            "/content/drive/MyDrive/PYHTON/00_GITHUB/00c_CODIGOS_EXTRAS_PYTHON/output/2023/2023-02-01\n",
            "/content/drive/MyDrive/PYHTON/00_GITHUB/00c_CODIGOS_EXTRAS_PYTHON/output/2023/2023-02-02\n",
            "/content/drive/MyDrive/PYHTON/00_GITHUB/00c_CODIGOS_EXTRAS_PYTHON/output/2023/2023-02-03\n",
            "/content/drive/MyDrive/PYHTON/00_GITHUB/00c_CODIGOS_EXTRAS_PYTHON/output/2023/2023-02-04\n",
            "/content/drive/MyDrive/PYHTON/00_GITHUB/00c_CODIGOS_EXTRAS_PYTHON/output/2023/2023-02-05\n",
            "/content/drive/MyDrive/PYHTON/00_GITHUB/00c_CODIGOS_EXTRAS_PYTHON/output/2023/2023-02-06\n",
            "/content/drive/MyDrive/PYHTON/00_GITHUB/00c_CODIGOS_EXTRAS_PYTHON/output/2023/2023-02-07\n",
            "/content/drive/MyDrive/PYHTON/00_GITHUB/00c_CODIGOS_EXTRAS_PYTHON/output/2023/2023-02-08\n",
            "/content/drive/MyDrive/PYHTON/00_GITHUB/00c_CODIGOS_EXTRAS_PYTHON/output/2023/2023-02-09\n",
            "/content/drive/MyDrive/PYHTON/00_GITHUB/00c_CODIGOS_EXTRAS_PYTHON/output/2023/2023-02-10\n",
            "/content/drive/MyDrive/PYHTON/00_GITHUB/00c_CODIGOS_EXTRAS_PYTHON/output/2023/2023-02-11\n",
            "/content/drive/MyDrive/PYHTON/00_GITHUB/00c_CODIGOS_EXTRAS_PYTHON/output/2023/2023-02-12\n",
            "/content/drive/MyDrive/PYHTON/00_GITHUB/00c_CODIGOS_EXTRAS_PYTHON/output/2023/2023-02-13\n",
            "/content/drive/MyDrive/PYHTON/00_GITHUB/00c_CODIGOS_EXTRAS_PYTHON/output/2023/2023-02-14\n",
            "/content/drive/MyDrive/PYHTON/00_GITHUB/00c_CODIGOS_EXTRAS_PYTHON/output/2023/2023-02-15\n",
            "/content/drive/MyDrive/PYHTON/00_GITHUB/00c_CODIGOS_EXTRAS_PYTHON/output/2023/2023-02-16\n",
            "/content/drive/MyDrive/PYHTON/00_GITHUB/00c_CODIGOS_EXTRAS_PYTHON/output/2023/2023-02-17\n",
            "/content/drive/MyDrive/PYHTON/00_GITHUB/00c_CODIGOS_EXTRAS_PYTHON/output/2023/2023-02-18\n",
            "/content/drive/MyDrive/PYHTON/00_GITHUB/00c_CODIGOS_EXTRAS_PYTHON/output/2023/2023-02-19\n",
            "/content/drive/MyDrive/PYHTON/00_GITHUB/00c_CODIGOS_EXTRAS_PYTHON/output/2023/2023-02-20\n",
            "/content/drive/MyDrive/PYHTON/00_GITHUB/00c_CODIGOS_EXTRAS_PYTHON/output/2023/2023-02-21\n",
            "/content/drive/MyDrive/PYHTON/00_GITHUB/00c_CODIGOS_EXTRAS_PYTHON/output/2023/2023-02-22\n",
            "/content/drive/MyDrive/PYHTON/00_GITHUB/00c_CODIGOS_EXTRAS_PYTHON/output/2023/2023-02-23\n",
            "/content/drive/MyDrive/PYHTON/00_GITHUB/00c_CODIGOS_EXTRAS_PYTHON/output/2023/2023-02-24\n",
            "/content/drive/MyDrive/PYHTON/00_GITHUB/00c_CODIGOS_EXTRAS_PYTHON/output/2023/2023-02-25\n",
            "/content/drive/MyDrive/PYHTON/00_GITHUB/00c_CODIGOS_EXTRAS_PYTHON/output/2023/2023-02-26\n",
            "/content/drive/MyDrive/PYHTON/00_GITHUB/00c_CODIGOS_EXTRAS_PYTHON/output/2023/2023-02-27\n",
            "/content/drive/MyDrive/PYHTON/00_GITHUB/00c_CODIGOS_EXTRAS_PYTHON/output/2023/2023-02-28\n",
            "/content/drive/MyDrive/PYHTON/00_GITHUB/00c_CODIGOS_EXTRAS_PYTHON/output/2023/2023-03-01\n",
            "/content/drive/MyDrive/PYHTON/00_GITHUB/00c_CODIGOS_EXTRAS_PYTHON/output/2023/2023-03-02\n",
            "/content/drive/MyDrive/PYHTON/00_GITHUB/00c_CODIGOS_EXTRAS_PYTHON/output/2023/2023-03-03\n",
            "/content/drive/MyDrive/PYHTON/00_GITHUB/00c_CODIGOS_EXTRAS_PYTHON/output/2023/2023-03-04\n",
            "/content/drive/MyDrive/PYHTON/00_GITHUB/00c_CODIGOS_EXTRAS_PYTHON/output/2023/2023-03-05\n",
            "/content/drive/MyDrive/PYHTON/00_GITHUB/00c_CODIGOS_EXTRAS_PYTHON/output/2023/2023-03-06\n",
            "/content/drive/MyDrive/PYHTON/00_GITHUB/00c_CODIGOS_EXTRAS_PYTHON/output/2023/2023-03-07\n",
            "/content/drive/MyDrive/PYHTON/00_GITHUB/00c_CODIGOS_EXTRAS_PYTHON/output/2023/2023-03-08\n",
            "/content/drive/MyDrive/PYHTON/00_GITHUB/00c_CODIGOS_EXTRAS_PYTHON/output/2023/2023-03-09\n",
            "/content/drive/MyDrive/PYHTON/00_GITHUB/00c_CODIGOS_EXTRAS_PYTHON/output/2023/2023-03-10\n",
            "/content/drive/MyDrive/PYHTON/00_GITHUB/00c_CODIGOS_EXTRAS_PYTHON/output/2023/2023-03-11\n",
            "/content/drive/MyDrive/PYHTON/00_GITHUB/00c_CODIGOS_EXTRAS_PYTHON/output/2023/2023-03-12\n",
            "/content/drive/MyDrive/PYHTON/00_GITHUB/00c_CODIGOS_EXTRAS_PYTHON/output/2023/2023-03-13\n",
            "/content/drive/MyDrive/PYHTON/00_GITHUB/00c_CODIGOS_EXTRAS_PYTHON/output/2023/2023-03-14\n",
            "/content/drive/MyDrive/PYHTON/00_GITHUB/00c_CODIGOS_EXTRAS_PYTHON/output/2023/2023-03-15\n",
            "/content/drive/MyDrive/PYHTON/00_GITHUB/00c_CODIGOS_EXTRAS_PYTHON/output/2023/2023-03-16\n",
            "/content/drive/MyDrive/PYHTON/00_GITHUB/00c_CODIGOS_EXTRAS_PYTHON/output/2023/2023-03-17\n",
            "/content/drive/MyDrive/PYHTON/00_GITHUB/00c_CODIGOS_EXTRAS_PYTHON/output/2023/2023-03-18\n",
            "/content/drive/MyDrive/PYHTON/00_GITHUB/00c_CODIGOS_EXTRAS_PYTHON/output/2023/2023-03-19\n",
            "/content/drive/MyDrive/PYHTON/00_GITHUB/00c_CODIGOS_EXTRAS_PYTHON/output/2023/2023-03-20\n",
            "/content/drive/MyDrive/PYHTON/00_GITHUB/00c_CODIGOS_EXTRAS_PYTHON/output/2023/2023-03-21\n",
            "/content/drive/MyDrive/PYHTON/00_GITHUB/00c_CODIGOS_EXTRAS_PYTHON/output/2023/2023-03-22\n",
            "/content/drive/MyDrive/PYHTON/00_GITHUB/00c_CODIGOS_EXTRAS_PYTHON/output/2023/2023-03-23\n",
            "/content/drive/MyDrive/PYHTON/00_GITHUB/00c_CODIGOS_EXTRAS_PYTHON/output/2023/2023-03-24\n",
            "/content/drive/MyDrive/PYHTON/00_GITHUB/00c_CODIGOS_EXTRAS_PYTHON/output/2023/2023-03-25\n",
            "/content/drive/MyDrive/PYHTON/00_GITHUB/00c_CODIGOS_EXTRAS_PYTHON/output/2023/2023-03-26\n",
            "/content/drive/MyDrive/PYHTON/00_GITHUB/00c_CODIGOS_EXTRAS_PYTHON/output/2023/2023-03-27\n",
            "/content/drive/MyDrive/PYHTON/00_GITHUB/00c_CODIGOS_EXTRAS_PYTHON/output/2023/2023-03-28\n",
            "/content/drive/MyDrive/PYHTON/00_GITHUB/00c_CODIGOS_EXTRAS_PYTHON/output/2023/2023-03-29\n",
            "/content/drive/MyDrive/PYHTON/00_GITHUB/00c_CODIGOS_EXTRAS_PYTHON/output/2023/2023-03-30\n",
            "/content/drive/MyDrive/PYHTON/00_GITHUB/00c_CODIGOS_EXTRAS_PYTHON/output/2023/2023-03-31\n"
          ]
        }
      ]
    }
  ],
  "metadata": {
    "kernelspec": {
      "display_name": "Python 3",
      "language": "python",
      "name": "python3"
    },
    "language_info": {
      "codemirror_mode": {
        "name": "ipython",
        "version": 3
      },
      "file_extension": ".py",
      "mimetype": "text/x-python",
      "name": "python",
      "nbconvert_exporter": "python",
      "pygments_lexer": "ipython3",
      "version": "3.8.5"
    },
    "colab": {
      "provenance": []
    }
  },
  "nbformat": 4,
  "nbformat_minor": 5
}