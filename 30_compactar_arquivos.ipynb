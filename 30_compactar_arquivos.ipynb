{
  "cells": [
    {
      "cell_type": "markdown",
      "metadata": {
        "id": "view-in-github",
        "colab_type": "text"
      },
      "source": [
        "<a href=\"https://colab.research.google.com/github/evmpython/2_codigos_gerais/blob/main/30_compactar_arquivos.ipynb\" target=\"_parent\"><img src=\"https://colab.research.google.com/assets/colab-badge.svg\" alt=\"Open In Colab\"/></a>"
      ]
    },
    {
      "cell_type": "markdown",
      "source": [
        "- Código realizado por: Enrique V. Mattos - 22/04/2024\n",
        "\n",
        "- Maiores informações: https://docs.python.org/3/library/gzip.html"
      ],
      "metadata": {
        "id": "MvqE7gQEUzjH"
      },
      "id": "MvqE7gQEUzjH"
    },
    {
      "cell_type": "markdown",
      "source": [
        "# Compactando arquivo"
      ],
      "metadata": {
        "id": "5GKRmXyLTZV8"
      },
      "id": "5GKRmXyLTZV8"
    },
    {
      "cell_type": "code",
      "source": [
        "# importa bibliotecas\n",
        "import gzip\n",
        "import shutil\n",
        "\n",
        "# baixa o arquivo\n",
        "filename = 'https://github.com/evmpython/2_codigos_gerais/raw/main/input/pulse_CEMADEN_2016-12-18.txt'\n",
        "!wget {filename}\n",
        "\n",
        "# compacta o arquivo\n",
        "with open('/content/pulse_CEMADEN_2016-12-18.txt', 'rb') as f_in:\n",
        "    with gzip.open('pulse_CEMADEN_2016-12-18.txt.gz', 'wb') as f_out:\n",
        "        shutil.copyfileobj(f_in, f_out)"
      ],
      "metadata": {
        "id": "Lz2sh6zC7WAN"
      },
      "id": "Lz2sh6zC7WAN",
      "execution_count": null,
      "outputs": []
    },
    {
      "cell_type": "markdown",
      "source": [
        "# Lendo arquivo arquivo compactado"
      ],
      "metadata": {
        "id": "cl6x--wyTecG"
      },
      "id": "cl6x--wyTecG"
    },
    {
      "cell_type": "code",
      "source": [
        "# importa biblioteca\n",
        "import gzip\n",
        "\n",
        "# lendo arquivo\n",
        "with gzip.open('pulse_CEMADEN_2016-12-18.txt.gz', 'rb') as f:\n",
        "    file_content = f.read()"
      ],
      "metadata": {
        "id": "s_BDanA0TYon"
      },
      "id": "s_BDanA0TYon",
      "execution_count": 2,
      "outputs": []
    }
  ],
  "metadata": {
    "kernelspec": {
      "display_name": "Python 3",
      "language": "python",
      "name": "python3"
    },
    "language_info": {
      "codemirror_mode": {
        "name": "ipython",
        "version": 3
      },
      "file_extension": ".py",
      "mimetype": "text/x-python",
      "name": "python",
      "nbconvert_exporter": "python",
      "pygments_lexer": "ipython3",
      "version": "3.8.5"
    },
    "colab": {
      "provenance": [],
      "collapsed_sections": [
        "MvqE7gQEUzjH",
        "GDWUAFDmu7Vn",
        "H-JhkL-qz7Bx"
      ],
      "include_colab_link": true
    }
  },
  "nbformat": 4,
  "nbformat_minor": 5
}